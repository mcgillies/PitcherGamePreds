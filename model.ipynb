{
 "cells": [
  {
   "cell_type": "code",
   "execution_count": 1,
   "id": "30779afb-76c5-4994-9652-1a34b638c7e3",
   "metadata": {},
   "outputs": [
    {
     "name": "stderr",
     "output_type": "stream",
     "text": [
      "2024-05-30 18:44:10.710539: I tensorflow/core/platform/cpu_feature_guard.cc:182] This TensorFlow binary is optimized to use available CPU instructions in performance-critical operations.\n",
      "To enable the following instructions: SSE4.1 SSE4.2, in other operations, rebuild TensorFlow with the appropriate compiler flags.\n",
      "IProgress not found. Please update jupyter and ipywidgets. See https://ipywidgets.readthedocs.io/en/stable/user_install.html\n"
     ]
    }
   ],
   "source": [
    "import tensorflow\n",
    "from tensorflow.keras import Sequential\n",
    "from tensorflow.keras.metrics import MeanSquaredError, RootMeanSquaredError\n",
    "from tensorflow.keras.layers import Dense, Dropout\n",
    "from tensorflow.keras.callbacks import EarlyStopping\n",
    "import keras_tuner as kt\n",
    "from tensorflow import keras\n",
    "\n",
    "import pandas as pd\n",
    "from sklearn.metrics import mean_squared_error\n",
    "import numpy as np\n",
    "from collections import deque\n",
    "\n",
    "import matplotlib.pyplot as plt\n",
    "import numpy as np\n",
    "import pandas as pd\n",
    "\n",
    "import statistics\n",
    "\n",
    "\n",
    "from sklearn import datasets\n",
    "from sklearn.compose import ColumnTransformer, make_column_transformer\n",
    "from sklearn.metrics import make_scorer, mean_squared_error, r2_score\n",
    "from sklearn.metrics import mean_absolute_percentage_error\n",
    "from sklearn.dummy import DummyClassifier, DummyRegressor\n",
    "from sklearn.ensemble import RandomForestClassifier, RandomForestRegressor\n",
    "from sklearn.impute import SimpleImputer\n",
    "from sklearn.linear_model import LogisticRegression, Ridge\n",
    "from sklearn.model_selection import (\n",
    "    GridSearchCV,\n",
    "    RandomizedSearchCV,\n",
    "    cross_val_score,\n",
    "    cross_validate,\n",
    "    train_test_split,\n",
    ")\n",
    "from sklearn.pipeline import Pipeline, make_pipeline\n",
    "from sklearn.preprocessing import OneHotEncoder, OrdinalEncoder, StandardScaler\n",
    "from sklearn.svm import SVC, SVR\n",
    "from sklearn.tree import DecisionTreeClassifier\n",
    "from sklearn.metrics import average_precision_score\n",
    "from sklearn.tree import DecisionTreeClassifier, DecisionTreeRegressor\n",
    "from sklearn.feature_selection import SequentialFeatureSelector\n",
    "from sklearn.ensemble import StackingClassifier\n",
    "from sklearn.decomposition import PCA\n",
    "import shap"
   ]
  },
  {
   "cell_type": "code",
   "execution_count": 2,
   "id": "7fec8083-ebd9-42d9-bbe5-d988bac65d9b",
   "metadata": {},
   "outputs": [
    {
     "data": {
      "text/plain": [
       "(4889, 240)"
      ]
     },
     "execution_count": 2,
     "metadata": {},
     "output_type": "execute_result"
    }
   ],
   "source": [
    "data = pd.read_csv(\"data/data_preds.csv\", index_col = 0)\n",
    "data = data.drop(columns = ['Date','CT%_y', 'CTv_y', 'CB%_y', 'CBv_y', 'CH%_y', \n",
    "              'CHv_y', 'wCT_y', 'wCB_y', 'wCH_y', 'wCT/C_y', 'wCB/C_y', 'wCH/C_y',\n",
    "             'FBv_y', 'SL%_y', 'SLv_y', 'SF%_y', 'SFv_y', 'XX%_y', 'wFB_y', 'wSL_y', 'wSF_y', 'wFB/C_y', 'wSL/C_y', 'wSF/C'])\n",
    "data = data.dropna(axis = 1)\n",
    "data = data.drop_duplicates()\n",
    "data.shape"
   ]
  },
  {
   "cell_type": "code",
   "execution_count": 3,
   "id": "ab9b8d49-6e25-4e3c-ae83-570b05f0db2b",
   "metadata": {},
   "outputs": [],
   "source": [
    "X = data.drop(columns = 'K')\n",
    "y = data['K']\n",
    "X_train, X_test, y_train, y_test = train_test_split(X, y, train_size = 0.7, random_state = 123)\n",
    "X_train, X_val, y_train, y_val = train_test_split(X_train, y_train, train_size = 0.7, random_state = 123)"
   ]
  },
  {
   "cell_type": "code",
   "execution_count": 4,
   "id": "88e55b2f-42e1-4d51-b697-a1f2fc589e7b",
   "metadata": {},
   "outputs": [],
   "source": [
    "\n",
    "cat_feats = ['Team_x', 'Opp']\n",
    "num_feats = X.drop(columns = ['Team_x', 'Opp']).columns.tolist()"
   ]
  },
  {
   "cell_type": "code",
   "execution_count": 5,
   "id": "c83774f4-57e6-4186-a395-55e4cb93064b",
   "metadata": {},
   "outputs": [
    {
     "data": {
      "text/html": [
       "<style>#sk-container-id-1 {color: black;}#sk-container-id-1 pre{padding: 0;}#sk-container-id-1 div.sk-toggleable {background-color: white;}#sk-container-id-1 label.sk-toggleable__label {cursor: pointer;display: block;width: 100%;margin-bottom: 0;padding: 0.3em;box-sizing: border-box;text-align: center;}#sk-container-id-1 label.sk-toggleable__label-arrow:before {content: \"▸\";float: left;margin-right: 0.25em;color: #696969;}#sk-container-id-1 label.sk-toggleable__label-arrow:hover:before {color: black;}#sk-container-id-1 div.sk-estimator:hover label.sk-toggleable__label-arrow:before {color: black;}#sk-container-id-1 div.sk-toggleable__content {max-height: 0;max-width: 0;overflow: hidden;text-align: left;background-color: #f0f8ff;}#sk-container-id-1 div.sk-toggleable__content pre {margin: 0.2em;color: black;border-radius: 0.25em;background-color: #f0f8ff;}#sk-container-id-1 input.sk-toggleable__control:checked~div.sk-toggleable__content {max-height: 200px;max-width: 100%;overflow: auto;}#sk-container-id-1 input.sk-toggleable__control:checked~label.sk-toggleable__label-arrow:before {content: \"▾\";}#sk-container-id-1 div.sk-estimator input.sk-toggleable__control:checked~label.sk-toggleable__label {background-color: #d4ebff;}#sk-container-id-1 div.sk-label input.sk-toggleable__control:checked~label.sk-toggleable__label {background-color: #d4ebff;}#sk-container-id-1 input.sk-hidden--visually {border: 0;clip: rect(1px 1px 1px 1px);clip: rect(1px, 1px, 1px, 1px);height: 1px;margin: -1px;overflow: hidden;padding: 0;position: absolute;width: 1px;}#sk-container-id-1 div.sk-estimator {font-family: monospace;background-color: #f0f8ff;border: 1px dotted black;border-radius: 0.25em;box-sizing: border-box;margin-bottom: 0.5em;}#sk-container-id-1 div.sk-estimator:hover {background-color: #d4ebff;}#sk-container-id-1 div.sk-parallel-item::after {content: \"\";width: 100%;border-bottom: 1px solid gray;flex-grow: 1;}#sk-container-id-1 div.sk-label:hover label.sk-toggleable__label {background-color: #d4ebff;}#sk-container-id-1 div.sk-serial::before {content: \"\";position: absolute;border-left: 1px solid gray;box-sizing: border-box;top: 0;bottom: 0;left: 50%;z-index: 0;}#sk-container-id-1 div.sk-serial {display: flex;flex-direction: column;align-items: center;background-color: white;padding-right: 0.2em;padding-left: 0.2em;position: relative;}#sk-container-id-1 div.sk-item {position: relative;z-index: 1;}#sk-container-id-1 div.sk-parallel {display: flex;align-items: stretch;justify-content: center;background-color: white;position: relative;}#sk-container-id-1 div.sk-item::before, #sk-container-id-1 div.sk-parallel-item::before {content: \"\";position: absolute;border-left: 1px solid gray;box-sizing: border-box;top: 0;bottom: 0;left: 50%;z-index: -1;}#sk-container-id-1 div.sk-parallel-item {display: flex;flex-direction: column;z-index: 1;position: relative;background-color: white;}#sk-container-id-1 div.sk-parallel-item:first-child::after {align-self: flex-end;width: 50%;}#sk-container-id-1 div.sk-parallel-item:last-child::after {align-self: flex-start;width: 50%;}#sk-container-id-1 div.sk-parallel-item:only-child::after {width: 0;}#sk-container-id-1 div.sk-dashed-wrapped {border: 1px dashed gray;margin: 0 0.4em 0.5em 0.4em;box-sizing: border-box;padding-bottom: 0.4em;background-color: white;}#sk-container-id-1 div.sk-label label {font-family: monospace;font-weight: bold;display: inline-block;line-height: 1.2em;}#sk-container-id-1 div.sk-label-container {text-align: center;}#sk-container-id-1 div.sk-container {/* jupyter's `normalize.less` sets `[hidden] { display: none; }` but bootstrap.min.css set `[hidden] { display: none !important; }` so we also need the `!important` here to be able to override the default hidden behavior on the sphinx rendered scikit-learn.org. See: https://github.com/scikit-learn/scikit-learn/issues/21755 */display: inline-block !important;position: relative;}#sk-container-id-1 div.sk-text-repr-fallback {display: none;}</style><div id=\"sk-container-id-1\" class=\"sk-top-container\"><div class=\"sk-text-repr-fallback\"><pre>ColumnTransformer(transformers=[(&#x27;standardscaler&#x27;, StandardScaler(),\n",
       "                                 [&#x27;W&#x27;, &#x27;L&#x27;, &#x27;WAR_x&#x27;, &#x27;ERA&#x27;, &#x27;CG&#x27;, &#x27;ShO&#x27;, &#x27;IP&#x27;,\n",
       "                                  &#x27;TBF&#x27;, &#x27;H_x&#x27;, &#x27;R_x&#x27;, &#x27;ER&#x27;, &#x27;HR_x&#x27;, &#x27;BB_x&#x27;,\n",
       "                                  &#x27;IBB_x&#x27;, &#x27;HBP_x&#x27;, &#x27;WP&#x27;, &#x27;BK&#x27;, &#x27;SO_x&#x27;, &#x27;GB_x&#x27;,\n",
       "                                  &#x27;FB_x&#x27;, &#x27;LD_x&#x27;, &#x27;IFFB_x&#x27;, &#x27;Balls_x&#x27;,\n",
       "                                  &#x27;Strikes_x&#x27;, &#x27;Pitches_x&#x27;, &#x27;RS&#x27;, &#x27;IFH_x&#x27;,\n",
       "                                  &#x27;BU_x&#x27;, &#x27;BUH_x&#x27;, &#x27;K/9&#x27;, ...]),\n",
       "                                (&#x27;onehotencoder&#x27;,\n",
       "                                 OneHotEncoder(handle_unknown=&#x27;ignore&#x27;),\n",
       "                                 [&#x27;Team_x&#x27;, &#x27;Opp&#x27;])])</pre><b>In a Jupyter environment, please rerun this cell to show the HTML representation or trust the notebook. <br />On GitHub, the HTML representation is unable to render, please try loading this page with nbviewer.org.</b></div><div class=\"sk-container\" hidden><div class=\"sk-item sk-dashed-wrapped\"><div class=\"sk-label-container\"><div class=\"sk-label sk-toggleable\"><input class=\"sk-toggleable__control sk-hidden--visually\" id=\"sk-estimator-id-1\" type=\"checkbox\" ><label for=\"sk-estimator-id-1\" class=\"sk-toggleable__label sk-toggleable__label-arrow\">ColumnTransformer</label><div class=\"sk-toggleable__content\"><pre>ColumnTransformer(transformers=[(&#x27;standardscaler&#x27;, StandardScaler(),\n",
       "                                 [&#x27;W&#x27;, &#x27;L&#x27;, &#x27;WAR_x&#x27;, &#x27;ERA&#x27;, &#x27;CG&#x27;, &#x27;ShO&#x27;, &#x27;IP&#x27;,\n",
       "                                  &#x27;TBF&#x27;, &#x27;H_x&#x27;, &#x27;R_x&#x27;, &#x27;ER&#x27;, &#x27;HR_x&#x27;, &#x27;BB_x&#x27;,\n",
       "                                  &#x27;IBB_x&#x27;, &#x27;HBP_x&#x27;, &#x27;WP&#x27;, &#x27;BK&#x27;, &#x27;SO_x&#x27;, &#x27;GB_x&#x27;,\n",
       "                                  &#x27;FB_x&#x27;, &#x27;LD_x&#x27;, &#x27;IFFB_x&#x27;, &#x27;Balls_x&#x27;,\n",
       "                                  &#x27;Strikes_x&#x27;, &#x27;Pitches_x&#x27;, &#x27;RS&#x27;, &#x27;IFH_x&#x27;,\n",
       "                                  &#x27;BU_x&#x27;, &#x27;BUH_x&#x27;, &#x27;K/9&#x27;, ...]),\n",
       "                                (&#x27;onehotencoder&#x27;,\n",
       "                                 OneHotEncoder(handle_unknown=&#x27;ignore&#x27;),\n",
       "                                 [&#x27;Team_x&#x27;, &#x27;Opp&#x27;])])</pre></div></div></div><div class=\"sk-parallel\"><div class=\"sk-parallel-item\"><div class=\"sk-item\"><div class=\"sk-label-container\"><div class=\"sk-label sk-toggleable\"><input class=\"sk-toggleable__control sk-hidden--visually\" id=\"sk-estimator-id-2\" type=\"checkbox\" ><label for=\"sk-estimator-id-2\" class=\"sk-toggleable__label sk-toggleable__label-arrow\">standardscaler</label><div class=\"sk-toggleable__content\"><pre>[&#x27;W&#x27;, &#x27;L&#x27;, &#x27;WAR_x&#x27;, &#x27;ERA&#x27;, &#x27;CG&#x27;, &#x27;ShO&#x27;, &#x27;IP&#x27;, &#x27;TBF&#x27;, &#x27;H_x&#x27;, &#x27;R_x&#x27;, &#x27;ER&#x27;, &#x27;HR_x&#x27;, &#x27;BB_x&#x27;, &#x27;IBB_x&#x27;, &#x27;HBP_x&#x27;, &#x27;WP&#x27;, &#x27;BK&#x27;, &#x27;SO_x&#x27;, &#x27;GB_x&#x27;, &#x27;FB_x&#x27;, &#x27;LD_x&#x27;, &#x27;IFFB_x&#x27;, &#x27;Balls_x&#x27;, &#x27;Strikes_x&#x27;, &#x27;Pitches_x&#x27;, &#x27;RS&#x27;, &#x27;IFH_x&#x27;, &#x27;BU_x&#x27;, &#x27;BUH_x&#x27;, &#x27;K/9&#x27;, &#x27;BB/9&#x27;, &#x27;K/BB&#x27;, &#x27;H/9&#x27;, &#x27;HR/9&#x27;, &#x27;AVG_x&#x27;, &#x27;WHIP&#x27;, &#x27;BABIP_x&#x27;, &#x27;LOB%&#x27;, &#x27;FIP&#x27;, &#x27;GB/FB_x&#x27;, &#x27;LD%_x&#x27;, &#x27;GB%_x&#x27;, &#x27;FB%_x&#x27;, &#x27;IFFB%_x&#x27;, &#x27;HR/FB_x&#x27;, &#x27;IFH%_x&#x27;, &#x27;BUH%_x&#x27;, &#x27;tERA&#x27;, &#x27;xFIP&#x27;, &#x27;WPA_x&#x27;, &#x27;-WPA_x&#x27;, &#x27;+WPA_x&#x27;, &#x27;RE24_x&#x27;, &#x27;REW_x&#x27;, &#x27;pLI_x&#x27;, &#x27;inLI&#x27;, &#x27;gmLI&#x27;, &#x27;Pulls&#x27;, &#x27;WPA/LI_x&#x27;, &#x27;Clutch_x&#x27;, &#x27;O-Swing%_x&#x27;, &#x27;Z-Swing%_x&#x27;, &#x27;Swing%_x&#x27;, &#x27;O-Contact%_x&#x27;, &#x27;Z-Contact%_x&#x27;, &#x27;Contact%_x&#x27;, &#x27;Zone%_x&#x27;, &#x27;F-Strike%_x&#x27;, &#x27;SwStr%_x&#x27;, &#x27;HLD&#x27;, &#x27;SD&#x27;, &#x27;MD&#x27;, &#x27;ERA-&#x27;, &#x27;FIP-&#x27;, &#x27;xFIP-&#x27;, &#x27;K%_x&#x27;, &#x27;BB%_x&#x27;, &#x27;SIERA&#x27;, &#x27;RS/9&#x27;, &#x27;E-F&#x27;, &#x27;K-BB%&#x27;, &#x27;Pull%&#x27;, &#x27;Cent%&#x27;, &#x27;Oppo%&#x27;, &#x27;Soft%&#x27;, &#x27;Med%&#x27;, &#x27;Hard%&#x27;, &#x27;kwERA&#x27;, &#x27;TTO%&#x27;, &#x27;Pace (pi)&#x27;, &#x27;FRM_x&#x27;, &#x27;K/9+&#x27;, &#x27;BB/9+&#x27;, &#x27;H/9+&#x27;, &#x27;HR/9+&#x27;, &#x27;AVG+_x&#x27;, &#x27;WHIP+&#x27;, &#x27;BABIP+_x&#x27;, &#x27;LOB%+&#x27;, &#x27;K%+_x&#x27;, &#x27;BB%+_x&#x27;, &#x27;LD%+&#x27;, &#x27;GB%+_x&#x27;, &#x27;FB%+_x&#x27;, &#x27;Pull%+_x&#x27;, &#x27;Cent%+_x&#x27;, &#x27;Oppo%+_x&#x27;, &#x27;Soft%+_x&#x27;, &#x27;Med%+_x&#x27;, &#x27;Hard%+_x&#x27;, &#x27;EV_x&#x27;, &#x27;LA_x&#x27;, &#x27;Barrels_x&#x27;, &#x27;Barrel%_x&#x27;, &#x27;maxEV_x&#x27;, &#x27;HardHit_x&#x27;, &#x27;HardHit%_x&#x27;, &#x27;Events_x&#x27;, &#x27;CStr%_x&#x27;, &#x27;CSW%_x&#x27;, &#x27;xERA&#x27;, &#x27;Age&#x27;, &#x27;G&#x27;, &#x27;AB&#x27;, &#x27;PA&#x27;, &#x27;H_y&#x27;, &#x27;1B&#x27;, &#x27;2B&#x27;, &#x27;3B&#x27;, &#x27;HR_y&#x27;, &#x27;R_y&#x27;, &#x27;RBI&#x27;, &#x27;BB_y&#x27;, &#x27;IBB_y&#x27;, &#x27;SO_y&#x27;, &#x27;HBP_y&#x27;, &#x27;SF&#x27;, &#x27;SH&#x27;, &#x27;GDP&#x27;, &#x27;SB&#x27;, &#x27;CS&#x27;, &#x27;AVG_y&#x27;, &#x27;GB_y&#x27;, &#x27;FB_y&#x27;, &#x27;LD_y&#x27;, &#x27;IFFB_y&#x27;, &#x27;Pitches_y&#x27;, &#x27;Balls_y&#x27;, &#x27;Strikes_y&#x27;, &#x27;IFH_y&#x27;, &#x27;BU_y&#x27;, &#x27;BUH_y&#x27;, &#x27;BB%_y&#x27;, &#x27;K%_y&#x27;, &#x27;BB/K&#x27;, &#x27;OBP&#x27;, &#x27;SLG&#x27;, &#x27;OPS&#x27;, &#x27;ISO&#x27;, &#x27;BABIP_y&#x27;, &#x27;GB/FB_y&#x27;, &#x27;LD%_y&#x27;, &#x27;GB%_y&#x27;, &#x27;FB%_y&#x27;, &#x27;IFFB%_y&#x27;, &#x27;HR/FB_y&#x27;, &#x27;IFH%_y&#x27;, &#x27;BUH%_y&#x27;, &#x27;wOBA&#x27;, &#x27;wRAA&#x27;, &#x27;wRC&#x27;, &#x27;Bat&#x27;, &#x27;Fld&#x27;, &#x27;Rep&#x27;, &#x27;Pos&#x27;, &#x27;RAR&#x27;, &#x27;WAR_y&#x27;, &#x27;Spd&#x27;, &#x27;wRC+&#x27;, &#x27;WPA_y&#x27;, &#x27;-WPA_y&#x27;, &#x27;+WPA_y&#x27;, &#x27;RE24_y&#x27;, &#x27;REW_y&#x27;, &#x27;pLI_y&#x27;, &#x27;phLI&#x27;, &#x27;PH&#x27;, &#x27;WPA/LI_y&#x27;, &#x27;Clutch_y&#x27;, &#x27;FB% (Pitch)&#x27;, &#x27;O-Swing%_y&#x27;, &#x27;Z-Swing%_y&#x27;, &#x27;Swing%_y&#x27;, &#x27;O-Contact%_y&#x27;, &#x27;Z-Contact%_y&#x27;, &#x27;Contact%_y&#x27;, &#x27;Zone%_y&#x27;, &#x27;F-Strike%_y&#x27;, &#x27;SwStr%_y&#x27;, &#x27;BsR&#x27;, &#x27;O-Swing% (sc)&#x27;, &#x27;Z-Swing% (sc)&#x27;, &#x27;Swing% (sc)&#x27;, &#x27;O-Contact% (sc)&#x27;, &#x27;Z-Contact% (sc)&#x27;, &#x27;Contact% (sc)&#x27;, &#x27;Zone% (sc)&#x27;, &#x27;Pace&#x27;, &#x27;Def&#x27;, &#x27;FRM_y&#x27;, &#x27;AVG+_y&#x27;, &#x27;BB%+_y&#x27;, &#x27;K%+_y&#x27;, &#x27;OBP+&#x27;, &#x27;SLG+&#x27;, &#x27;ISO+&#x27;, &#x27;BABIP+_y&#x27;, &#x27;LD+%&#x27;, &#x27;GB%+_y&#x27;, &#x27;FB%+_y&#x27;, &#x27;HR/FB%+_y&#x27;, &#x27;Pull%+_y&#x27;, &#x27;Cent%+_y&#x27;, &#x27;Oppo%+_y&#x27;, &#x27;Soft%+_y&#x27;, &#x27;Med%+_y&#x27;, &#x27;Hard%+_y&#x27;, &#x27;EV_y&#x27;, &#x27;LA_y&#x27;, &#x27;Barrels_y&#x27;, &#x27;Barrel%_y&#x27;, &#x27;maxEV_y&#x27;, &#x27;HardHit_y&#x27;, &#x27;HardHit%_y&#x27;, &#x27;Events_y&#x27;, &#x27;CStr%_y&#x27;, &#x27;CSW%_y&#x27;]</pre></div></div></div><div class=\"sk-serial\"><div class=\"sk-item\"><div class=\"sk-estimator sk-toggleable\"><input class=\"sk-toggleable__control sk-hidden--visually\" id=\"sk-estimator-id-3\" type=\"checkbox\" ><label for=\"sk-estimator-id-3\" class=\"sk-toggleable__label sk-toggleable__label-arrow\">StandardScaler</label><div class=\"sk-toggleable__content\"><pre>StandardScaler()</pre></div></div></div></div></div></div><div class=\"sk-parallel-item\"><div class=\"sk-item\"><div class=\"sk-label-container\"><div class=\"sk-label sk-toggleable\"><input class=\"sk-toggleable__control sk-hidden--visually\" id=\"sk-estimator-id-4\" type=\"checkbox\" ><label for=\"sk-estimator-id-4\" class=\"sk-toggleable__label sk-toggleable__label-arrow\">onehotencoder</label><div class=\"sk-toggleable__content\"><pre>[&#x27;Team_x&#x27;, &#x27;Opp&#x27;]</pre></div></div></div><div class=\"sk-serial\"><div class=\"sk-item\"><div class=\"sk-estimator sk-toggleable\"><input class=\"sk-toggleable__control sk-hidden--visually\" id=\"sk-estimator-id-5\" type=\"checkbox\" ><label for=\"sk-estimator-id-5\" class=\"sk-toggleable__label sk-toggleable__label-arrow\">OneHotEncoder</label><div class=\"sk-toggleable__content\"><pre>OneHotEncoder(handle_unknown=&#x27;ignore&#x27;)</pre></div></div></div></div></div></div></div></div></div></div>"
      ],
      "text/plain": [
       "ColumnTransformer(transformers=[('standardscaler', StandardScaler(),\n",
       "                                 ['W', 'L', 'WAR_x', 'ERA', 'CG', 'ShO', 'IP',\n",
       "                                  'TBF', 'H_x', 'R_x', 'ER', 'HR_x', 'BB_x',\n",
       "                                  'IBB_x', 'HBP_x', 'WP', 'BK', 'SO_x', 'GB_x',\n",
       "                                  'FB_x', 'LD_x', 'IFFB_x', 'Balls_x',\n",
       "                                  'Strikes_x', 'Pitches_x', 'RS', 'IFH_x',\n",
       "                                  'BU_x', 'BUH_x', 'K/9', ...]),\n",
       "                                ('onehotencoder',\n",
       "                                 OneHotEncoder(handle_unknown='ignore'),\n",
       "                                 ['Team_x', 'Opp'])])"
      ]
     },
     "execution_count": 5,
     "metadata": {},
     "output_type": "execute_result"
    }
   ],
   "source": [
    "ct = make_column_transformer(\n",
    "    (StandardScaler(), num_feats),\n",
    "    (OneHotEncoder(handle_unknown = 'ignore'), cat_feats))\n",
    "ct"
   ]
  },
  {
   "cell_type": "code",
   "execution_count": 6,
   "id": "eecb9e31-4b4a-4252-a7e6-0085e320b3a3",
   "metadata": {},
   "outputs": [],
   "source": [
    "transformed_x_train = ct.fit_transform(X_train)\n",
    "transformed_x_val = ct.transform(X_val)\n",
    "transformed_x_test = ct.transform(X_test)"
   ]
  },
  {
   "cell_type": "code",
   "execution_count": 7,
   "id": "1b28278e-9387-46ec-844b-89c35ed84b9d",
   "metadata": {},
   "outputs": [],
   "source": [
    "colnames = num_feats + list(ct.named_transformers_['onehotencoder'].get_feature_names_out())"
   ]
  },
  {
   "cell_type": "code",
   "execution_count": 8,
   "id": "f1168bbe-66d4-4750-a2bd-f54fe81b4c2a",
   "metadata": {},
   "outputs": [],
   "source": [
    "X_train_transformed = pd.DataFrame(transformed_x_train, columns = colnames)\n",
    "X_val_transformed = pd.DataFrame(transformed_x_val, columns = colnames)\n",
    "X_test_transformed = pd.DataFrame(transformed_x_test, columns = colnames)\n",
    "n_features = len(colnames)"
   ]
  },
  {
   "cell_type": "code",
   "execution_count": 9,
   "id": "2b4b4cf0-dfa8-4272-9fdc-fabc522f61cb",
   "metadata": {},
   "outputs": [],
   "source": [
    "pca = PCA(n_components = 50)\n",
    "X_train_transformed1 = pca.fit_transform(X_train_transformed)\n",
    "X_val_transformed1 = pca.transform(X_val_transformed)\n",
    "X_test_transformed1 = pca.transform(X_test_transformed)"
   ]
  },
  {
   "cell_type": "code",
   "execution_count": 10,
   "id": "c84f70b3-a3ab-4e0a-8900-ffc0057b610a",
   "metadata": {},
   "outputs": [
    {
     "name": "stdout",
     "output_type": "stream",
     "text": [
      "Trial 254 Complete [00h 00m 18s]\n",
      "val_mean_squared_error: 5.159441947937012\n",
      "\n",
      "Best val_mean_squared_error So Far: 5.072523593902588\n",
      "Total elapsed time: 00h 18m 29s\n",
      "INFO:tensorflow:Oracle triggered exit\n",
      "{'num_layers': 4, 'units0': 8, 'activation0': 'tanh', 'dropout0': 0.2, 'optimizer': 'adam', 'units1': 132, 'activation1': 'sigmoid', 'dropout1': 0.4, 'units2': 80, 'activation2': 'relu', 'dropout2': 0.1, 'units3': 192, 'activation3': 'relu', 'dropout3': 0.3, 'units4': 144, 'activation4': 'tanh', 'dropout4': 0.5, 'units5': 16, 'activation5': 'sigmoid', 'dropout5': 0.5, 'units6': 56, 'activation6': 'tanh', 'dropout6': 0.3, 'units7': 56, 'activation7': 'tanh', 'dropout7': 0.1, 'units8': 36, 'activation8': 'tanh', 'dropout8': 0.4, 'units9': 16, 'activation9': 'tanh', 'dropout9': 0.5, 'units10': 264, 'activation10': 'tanh', 'dropout10': 0.3, 'units11': 36, 'activation11': 'sigmoid', 'dropout11': 0.2, 'units12': 176, 'activation12': 'sigmoid', 'dropout12': 0.5, 'units13': 40, 'activation13': 'tanh', 'dropout13': 0.3, 'units14': 76, 'activation14': 'relu', 'dropout14': 0.5, 'units15': 232, 'activation15': 'tanh', 'dropout15': 0.4, 'units16': 228, 'activation16': 'tanh', 'dropout16': 0.3, 'units17': 184, 'activation17': 'sigmoid', 'dropout17': 0.4, 'units18': 208, 'activation18': 'tanh', 'dropout18': 0.1, 'units19': 56, 'activation19': 'relu', 'dropout19': 0.1, 'units20': 248, 'activation20': 'sigmoid', 'dropout20': 0.5, 'units21': 236, 'activation21': 'relu', 'dropout21': 0.2, 'units22': 220, 'activation22': 'tanh', 'dropout22': 0.4, 'units23': 120, 'activation23': 'tanh', 'dropout23': 0.5, 'units24': 176, 'activation24': 'sigmoid', 'dropout24': 0.4, 'units25': 220, 'activation25': 'tanh', 'dropout25': 0.4, 'units26': 12, 'activation26': 'relu', 'dropout26': 0.6, 'units27': 200, 'activation27': 'sigmoid', 'dropout27': 0.1, 'units28': 136, 'activation28': 'sigmoid', 'dropout28': 0.4, 'units29': 144, 'activation29': 'relu', 'dropout29': 0.5, 'tuner/epochs': 34, 'tuner/initial_epoch': 12, 'tuner/bracket': 4, 'tuner/round': 3, 'tuner/trial_id': '0139'}\n",
      "Epoch 1/100\n",
      "53/53 - 1s - loss: 5.5771 - mean_squared_error: 5.5771 - val_loss: 6.1407 - val_mean_squared_error: 6.1407 - 705ms/epoch - 13ms/step\n",
      "Epoch 2/100\n",
      "53/53 - 0s - loss: 5.5452 - mean_squared_error: 5.5452 - val_loss: 5.1425 - val_mean_squared_error: 5.1425 - 87ms/epoch - 2ms/step\n",
      "Epoch 3/100\n",
      "53/53 - 0s - loss: 5.4818 - mean_squared_error: 5.4818 - val_loss: 5.6956 - val_mean_squared_error: 5.6956 - 81ms/epoch - 2ms/step\n",
      "Epoch 4/100\n",
      "53/53 - 0s - loss: 5.2901 - mean_squared_error: 5.2901 - val_loss: 5.2138 - val_mean_squared_error: 5.2138 - 81ms/epoch - 2ms/step\n",
      "Epoch 5/100\n",
      "53/53 - 0s - loss: 5.3592 - mean_squared_error: 5.3592 - val_loss: 5.3287 - val_mean_squared_error: 5.3287 - 85ms/epoch - 2ms/step\n",
      "Epoch 6/100\n",
      "53/53 - 0s - loss: 5.4821 - mean_squared_error: 5.4821 - val_loss: 5.4045 - val_mean_squared_error: 5.4045 - 79ms/epoch - 1ms/step\n",
      "Epoch 7/100\n",
      "53/53 - 0s - loss: 5.4397 - mean_squared_error: 5.4397 - val_loss: 5.3064 - val_mean_squared_error: 5.3064 - 80ms/epoch - 2ms/step\n",
      "Epoch 8/100\n",
      "53/53 - 0s - loss: 5.3167 - mean_squared_error: 5.3167 - val_loss: 5.1198 - val_mean_squared_error: 5.1198 - 79ms/epoch - 1ms/step\n",
      "Epoch 9/100\n",
      "53/53 - 0s - loss: 5.5743 - mean_squared_error: 5.5743 - val_loss: 5.2981 - val_mean_squared_error: 5.2981 - 78ms/epoch - 1ms/step\n",
      "Epoch 10/100\n",
      "53/53 - 0s - loss: 5.3220 - mean_squared_error: 5.3220 - val_loss: 5.1677 - val_mean_squared_error: 5.1677 - 79ms/epoch - 1ms/step\n",
      "Epoch 11/100\n",
      "53/53 - 0s - loss: 5.1838 - mean_squared_error: 5.1838 - val_loss: 5.4804 - val_mean_squared_error: 5.4804 - 80ms/epoch - 2ms/step\n",
      "Epoch 12/100\n",
      "53/53 - 0s - loss: 5.2523 - mean_squared_error: 5.2523 - val_loss: 5.2891 - val_mean_squared_error: 5.2891 - 78ms/epoch - 1ms/step\n",
      "Epoch 13/100\n",
      "53/53 - 0s - loss: 5.1281 - mean_squared_error: 5.1281 - val_loss: 5.3543 - val_mean_squared_error: 5.3543 - 78ms/epoch - 1ms/step\n",
      "Epoch 14/100\n",
      "53/53 - 0s - loss: 5.1923 - mean_squared_error: 5.1923 - val_loss: 5.3151 - val_mean_squared_error: 5.3151 - 81ms/epoch - 2ms/step\n",
      "Epoch 15/100\n",
      "53/53 - 0s - loss: 5.0899 - mean_squared_error: 5.0899 - val_loss: 5.3484 - val_mean_squared_error: 5.3484 - 80ms/epoch - 2ms/step\n",
      "Epoch 16/100\n",
      "53/53 - 0s - loss: 5.1061 - mean_squared_error: 5.1061 - val_loss: 5.3182 - val_mean_squared_error: 5.3182 - 78ms/epoch - 1ms/step\n",
      "Epoch 17/100\n",
      "53/53 - 0s - loss: 5.1192 - mean_squared_error: 5.1192 - val_loss: 5.2709 - val_mean_squared_error: 5.2709 - 81ms/epoch - 2ms/step\n",
      "Epoch 18/100\n",
      "53/53 - 0s - loss: 5.2507 - mean_squared_error: 5.2507 - val_loss: 5.4004 - val_mean_squared_error: 5.4004 - 77ms/epoch - 1ms/step\n"
     ]
    },
    {
     "name": "stderr",
     "output_type": "stream",
     "text": [
      "2024-05-30 19:04:26.347127: I tensorflow/core/common_runtime/executor.cc:1197] [/device:CPU:0] (DEBUG INFO) Executor start aborting (this does not indicate an error and you can ignore this message): INVALID_ARGUMENT: You must feed a value for placeholder tensor 'inputs' with dtype float and shape [?,8]\n",
      "\t [[{{node inputs}}]]\n",
      "2024-05-30 19:04:26.354474: I tensorflow/core/common_runtime/executor.cc:1197] [/device:CPU:0] (DEBUG INFO) Executor start aborting (this does not indicate an error and you can ignore this message): INVALID_ARGUMENT: You must feed a value for placeholder tensor 'inputs' with dtype float and shape [?,132]\n",
      "\t [[{{node inputs}}]]\n",
      "2024-05-30 19:04:26.361403: I tensorflow/core/common_runtime/executor.cc:1197] [/device:CPU:0] (DEBUG INFO) Executor start aborting (this does not indicate an error and you can ignore this message): INVALID_ARGUMENT: You must feed a value for placeholder tensor 'inputs' with dtype float and shape [?,80]\n",
      "\t [[{{node inputs}}]]\n",
      "2024-05-30 19:04:26.368298: I tensorflow/core/common_runtime/executor.cc:1197] [/device:CPU:0] (DEBUG INFO) Executor start aborting (this does not indicate an error and you can ignore this message): INVALID_ARGUMENT: You must feed a value for placeholder tensor 'inputs' with dtype float and shape [?,192]\n",
      "\t [[{{node inputs}}]]\n",
      "2024-05-30 19:04:26.490282: I tensorflow/core/common_runtime/executor.cc:1197] [/device:CPU:0] (DEBUG INFO) Executor start aborting (this does not indicate an error and you can ignore this message): INVALID_ARGUMENT: You must feed a value for placeholder tensor 'inputs' with dtype float and shape [?,8]\n",
      "\t [[{{node inputs}}]]\n",
      "2024-05-30 19:04:26.507026: I tensorflow/core/common_runtime/executor.cc:1197] [/device:CPU:0] (DEBUG INFO) Executor start aborting (this does not indicate an error and you can ignore this message): INVALID_ARGUMENT: You must feed a value for placeholder tensor 'inputs' with dtype float and shape [?,132]\n",
      "\t [[{{node inputs}}]]\n",
      "2024-05-30 19:04:26.523602: I tensorflow/core/common_runtime/executor.cc:1197] [/device:CPU:0] (DEBUG INFO) Executor start aborting (this does not indicate an error and you can ignore this message): INVALID_ARGUMENT: You must feed a value for placeholder tensor 'inputs' with dtype float and shape [?,80]\n",
      "\t [[{{node inputs}}]]\n",
      "2024-05-30 19:04:26.540890: I tensorflow/core/common_runtime/executor.cc:1197] [/device:CPU:0] (DEBUG INFO) Executor start aborting (this does not indicate an error and you can ignore this message): INVALID_ARGUMENT: You must feed a value for placeholder tensor 'inputs' with dtype float and shape [?,192]\n",
      "\t [[{{node inputs}}]]\n",
      "WARNING:absl:Found untraced functions such as _update_step_xla while saving (showing 1 of 1). These functions will not be directly callable after loading.\n"
     ]
    },
    {
     "name": "stdout",
     "output_type": "stream",
     "text": [
      "INFO:tensorflow:Assets written to: models/K_model_pca_50/assets\n"
     ]
    },
    {
     "name": "stderr",
     "output_type": "stream",
     "text": [
      "INFO:tensorflow:Assets written to: models/K_model_pca_50/assets\n"
     ]
    }
   ],
   "source": [
    "def build_model(hp):\n",
    "  model = Sequential()\n",
    "  counter = 0\n",
    "  for i in range(hp.Int('num_layers',min_value=1,max_value=30)):\n",
    "    if counter == 0:\n",
    "      model.add(Dense(hp.Int('units' + str(i), min_value=8, max_value=300,step=8),activation= hp.Choice('activation' + str(i), values=['relu','tanh','sigmoid']),input_dim=50))\n",
    "      model.add(Dropout(hp.Choice('dropout' + str(i), values=[0.1,0.2,0.3,0.4,0.5,0.6])))\n",
    "    else:\n",
    "      model.add(Dense(hp.Int('units' + str(i), min_value=8, max_value=270,step=4),activation= hp.Choice('activation' + str(i), values=['relu','tanh','sigmoid'])))\n",
    "      model.add(Dropout(hp.Choice('dropout' + str(i), values=[0.1,0.2,0.3,0.4,0.5,0.6])))\n",
    "    counter+=1\n",
    "  model.add(Dense(1,activation='linear'))\n",
    "  model.compile(optimizer=hp.Choice('optimizer',values=['adagrad','adam','sgd']),\n",
    "                  loss='mse',\n",
    "                  metrics=[MeanSquaredError()])\n",
    "  return model\n",
    "\n",
    "tuner = kt.Hyperband(build_model, objective = 'val_mean_squared_error', max_epochs = 100, overwrite = True)\n",
    "tuner.search(X_train_transformed1, y_train, epochs = 100, validation_data = (X_val_transformed1, y_val))\n",
    "print(tuner.get_best_hyperparameters()[0].values)\n",
    "model = tuner.get_best_models()[0]\n",
    "es = EarlyStopping(monitor = 'val_loss', patience = 10)\n",
    "model.fit(X_train_transformed1, y_train, epochs = 100, verbose = 2, validation_split = 0.3, callbacks = [es])\n",
    "model.save(\"models/K_model_pca_50\")"
   ]
  },
  {
   "cell_type": "code",
   "execution_count": 11,
   "id": "868c2b6a-e71f-43c0-a3f2-ca59f4635831",
   "metadata": {},
   "outputs": [
    {
     "name": "stdout",
     "output_type": "stream",
     "text": [
      "46/46 [==============================] - 0s 559us/step\n"
     ]
    },
    {
     "data": {
      "text/plain": [
       "2.406175278170989"
      ]
     },
     "execution_count": 11,
     "metadata": {},
     "output_type": "execute_result"
    }
   ],
   "source": [
    "model = keras.models.load_model(\"models/K_model_pca_50\")\n",
    "preds = model.predict(X_test_transformed1)\n",
    "np.sqrt(mean_squared_error(y_test, preds))"
   ]
  },
  {
   "cell_type": "code",
   "execution_count": 12,
   "id": "4431b06e-a880-4c34-a331-fec4bc22aba3",
   "metadata": {},
   "outputs": [
    {
     "name": "stdout",
     "output_type": "stream",
     "text": [
      "Provided model function fails when applied to the provided data set.\n"
     ]
    },
    {
     "ename": "ValueError",
     "evalue": "Input 0 of layer \"sequential\" is incompatible with the layer: expected shape=(None, 50), found shape=(1, 295)",
     "output_type": "error",
     "traceback": [
      "\u001b[0;31m---------------------------------------------------------------------------\u001b[0m",
      "\u001b[0;31mValueError\u001b[0m                                Traceback (most recent call last)",
      "Cell \u001b[0;32mIn[12], line 2\u001b[0m\n\u001b[1;32m      1\u001b[0m samples \u001b[38;5;241m=\u001b[39m shap\u001b[38;5;241m.\u001b[39msample(X_train_transformed, \u001b[38;5;241m1\u001b[39m)\n\u001b[0;32m----> 2\u001b[0m e \u001b[38;5;241m=\u001b[39m \u001b[43mshap\u001b[49m\u001b[38;5;241;43m.\u001b[39;49m\u001b[43mKernelExplainer\u001b[49m\u001b[43m(\u001b[49m\u001b[43mmodel\u001b[49m\u001b[43m,\u001b[49m\u001b[43m \u001b[49m\u001b[43msamples\u001b[49m\u001b[43m)\u001b[49m\n\u001b[1;32m      3\u001b[0m shap_values \u001b[38;5;241m=\u001b[39m e\u001b[38;5;241m.\u001b[39mshap_values(X_test_transformed[\u001b[38;5;241m1\u001b[39m:\u001b[38;5;241m300\u001b[39m])\n\u001b[1;32m      4\u001b[0m shap\u001b[38;5;241m.\u001b[39minitjs()\n",
      "File \u001b[0;32m/Applications/miniconda3/envs/nn/lib/python3.11/site-packages/shap/explainers/_kernel.py:96\u001b[0m, in \u001b[0;36mKernel.__init__\u001b[0;34m(self, model, data, feature_names, link, **kwargs)\u001b[0m\n\u001b[1;32m     94\u001b[0m \u001b[38;5;28mself\u001b[39m\u001b[38;5;241m.\u001b[39mkeep_index_ordered \u001b[38;5;241m=\u001b[39m kwargs\u001b[38;5;241m.\u001b[39mget(\u001b[38;5;124m\"\u001b[39m\u001b[38;5;124mkeep_index_ordered\u001b[39m\u001b[38;5;124m\"\u001b[39m, \u001b[38;5;28;01mFalse\u001b[39;00m)\n\u001b[1;32m     95\u001b[0m \u001b[38;5;28mself\u001b[39m\u001b[38;5;241m.\u001b[39mdata \u001b[38;5;241m=\u001b[39m convert_to_data(data, keep_index\u001b[38;5;241m=\u001b[39m\u001b[38;5;28mself\u001b[39m\u001b[38;5;241m.\u001b[39mkeep_index)\n\u001b[0;32m---> 96\u001b[0m model_null \u001b[38;5;241m=\u001b[39m \u001b[43mmatch_model_to_data\u001b[49m\u001b[43m(\u001b[49m\u001b[38;5;28;43mself\u001b[39;49m\u001b[38;5;241;43m.\u001b[39;49m\u001b[43mmodel\u001b[49m\u001b[43m,\u001b[49m\u001b[43m \u001b[49m\u001b[38;5;28;43mself\u001b[39;49m\u001b[38;5;241;43m.\u001b[39;49m\u001b[43mdata\u001b[49m\u001b[43m)\u001b[49m\n\u001b[1;32m     98\u001b[0m \u001b[38;5;66;03m# enforce our current input type limitations\u001b[39;00m\n\u001b[1;32m     99\u001b[0m \u001b[38;5;28;01massert\u001b[39;00m \u001b[38;5;28misinstance\u001b[39m(\u001b[38;5;28mself\u001b[39m\u001b[38;5;241m.\u001b[39mdata, DenseData) \u001b[38;5;129;01mor\u001b[39;00m \u001b[38;5;28misinstance\u001b[39m(\u001b[38;5;28mself\u001b[39m\u001b[38;5;241m.\u001b[39mdata, SparseData), \\\n\u001b[1;32m    100\u001b[0m        \u001b[38;5;124m\"\u001b[39m\u001b[38;5;124mShap explainer only supports the DenseData and SparseData input currently.\u001b[39m\u001b[38;5;124m\"\u001b[39m\n",
      "File \u001b[0;32m/Applications/miniconda3/envs/nn/lib/python3.11/site-packages/shap/utils/_legacy.py:123\u001b[0m, in \u001b[0;36mmatch_model_to_data\u001b[0;34m(model, data)\u001b[0m\n\u001b[1;32m    121\u001b[0m         out_val \u001b[38;5;241m=\u001b[39m model\u001b[38;5;241m.\u001b[39mf(data\u001b[38;5;241m.\u001b[39mconvert_to_df())\n\u001b[1;32m    122\u001b[0m     \u001b[38;5;28;01melse\u001b[39;00m:\n\u001b[0;32m--> 123\u001b[0m         out_val \u001b[38;5;241m=\u001b[39m \u001b[43mmodel\u001b[49m\u001b[38;5;241;43m.\u001b[39;49m\u001b[43mf\u001b[49m\u001b[43m(\u001b[49m\u001b[43mdata\u001b[49m\u001b[38;5;241;43m.\u001b[39;49m\u001b[43mdata\u001b[49m\u001b[43m)\u001b[49m\n\u001b[1;32m    124\u001b[0m \u001b[38;5;28;01mexcept\u001b[39;00m \u001b[38;5;167;01mException\u001b[39;00m:\n\u001b[1;32m    125\u001b[0m     \u001b[38;5;28mprint\u001b[39m(\u001b[38;5;124m\"\u001b[39m\u001b[38;5;124mProvided model function fails when applied to the provided data set.\u001b[39m\u001b[38;5;124m\"\u001b[39m)\n",
      "File \u001b[0;32m/Applications/miniconda3/envs/nn/lib/python3.11/site-packages/keras/utils/traceback_utils.py:70\u001b[0m, in \u001b[0;36mfilter_traceback.<locals>.error_handler\u001b[0;34m(*args, **kwargs)\u001b[0m\n\u001b[1;32m     67\u001b[0m     filtered_tb \u001b[38;5;241m=\u001b[39m _process_traceback_frames(e\u001b[38;5;241m.\u001b[39m__traceback__)\n\u001b[1;32m     68\u001b[0m     \u001b[38;5;66;03m# To get the full stack trace, call:\u001b[39;00m\n\u001b[1;32m     69\u001b[0m     \u001b[38;5;66;03m# `tf.debugging.disable_traceback_filtering()`\u001b[39;00m\n\u001b[0;32m---> 70\u001b[0m     \u001b[38;5;28;01mraise\u001b[39;00m e\u001b[38;5;241m.\u001b[39mwith_traceback(filtered_tb) \u001b[38;5;28;01mfrom\u001b[39;00m \u001b[38;5;28;01mNone\u001b[39;00m\n\u001b[1;32m     71\u001b[0m \u001b[38;5;28;01mfinally\u001b[39;00m:\n\u001b[1;32m     72\u001b[0m     \u001b[38;5;28;01mdel\u001b[39;00m filtered_tb\n",
      "File \u001b[0;32m/Applications/miniconda3/envs/nn/lib/python3.11/site-packages/keras/engine/input_spec.py:298\u001b[0m, in \u001b[0;36massert_input_compatibility\u001b[0;34m(input_spec, inputs, layer_name)\u001b[0m\n\u001b[1;32m    296\u001b[0m \u001b[38;5;28;01mif\u001b[39;00m spec_dim \u001b[38;5;129;01mis\u001b[39;00m \u001b[38;5;129;01mnot\u001b[39;00m \u001b[38;5;28;01mNone\u001b[39;00m \u001b[38;5;129;01mand\u001b[39;00m dim \u001b[38;5;129;01mis\u001b[39;00m \u001b[38;5;129;01mnot\u001b[39;00m \u001b[38;5;28;01mNone\u001b[39;00m:\n\u001b[1;32m    297\u001b[0m     \u001b[38;5;28;01mif\u001b[39;00m spec_dim \u001b[38;5;241m!=\u001b[39m dim:\n\u001b[0;32m--> 298\u001b[0m         \u001b[38;5;28;01mraise\u001b[39;00m \u001b[38;5;167;01mValueError\u001b[39;00m(\n\u001b[1;32m    299\u001b[0m             \u001b[38;5;124mf\u001b[39m\u001b[38;5;124m'\u001b[39m\u001b[38;5;124mInput \u001b[39m\u001b[38;5;132;01m{\u001b[39;00minput_index\u001b[38;5;132;01m}\u001b[39;00m\u001b[38;5;124m of layer \u001b[39m\u001b[38;5;124m\"\u001b[39m\u001b[38;5;132;01m{\u001b[39;00mlayer_name\u001b[38;5;132;01m}\u001b[39;00m\u001b[38;5;124m\"\u001b[39m\u001b[38;5;124m is \u001b[39m\u001b[38;5;124m'\u001b[39m\n\u001b[1;32m    300\u001b[0m             \u001b[38;5;124m\"\u001b[39m\u001b[38;5;124mincompatible with the layer: \u001b[39m\u001b[38;5;124m\"\u001b[39m\n\u001b[1;32m    301\u001b[0m             \u001b[38;5;124mf\u001b[39m\u001b[38;5;124m\"\u001b[39m\u001b[38;5;124mexpected shape=\u001b[39m\u001b[38;5;132;01m{\u001b[39;00mspec\u001b[38;5;241m.\u001b[39mshape\u001b[38;5;132;01m}\u001b[39;00m\u001b[38;5;124m, \u001b[39m\u001b[38;5;124m\"\u001b[39m\n\u001b[1;32m    302\u001b[0m             \u001b[38;5;124mf\u001b[39m\u001b[38;5;124m\"\u001b[39m\u001b[38;5;124mfound shape=\u001b[39m\u001b[38;5;132;01m{\u001b[39;00mdisplay_shape(x\u001b[38;5;241m.\u001b[39mshape)\u001b[38;5;132;01m}\u001b[39;00m\u001b[38;5;124m\"\u001b[39m\n\u001b[1;32m    303\u001b[0m         )\n",
      "\u001b[0;31mValueError\u001b[0m: Input 0 of layer \"sequential\" is incompatible with the layer: expected shape=(None, 50), found shape=(1, 295)"
     ]
    }
   ],
   "source": [
    "samples = shap.sample(X_train_transformed, 1)\n",
    "e = shap.KernelExplainer(model, samples)\n",
    "shap_values = e.shap_values(X_test_transformed[1:300])\n",
    "shap.initjs()\n",
    "# visualize the first prediction's explanation with a force plot\n",
    "shap.summary_plot(shap_values[0], X_test_transformed[1:300], feature_names = colnames)"
   ]
  },
  {
   "cell_type": "code",
   "execution_count": 13,
   "id": "8dd46b0b-b9d5-4adb-8c17-4ec4d659c634",
   "metadata": {},
   "outputs": [
    {
     "name": "stdout",
     "output_type": "stream",
     "text": [
      "0    NYY\n",
      "1    NYY\n",
      "Name: Team_x, dtype: object\n",
      "0    Los Angeles\n",
      "1    Los Angeles\n",
      "Name: Opp, dtype: object\n",
      "[]\n",
      "1/1 [==============================] - 0s 15ms/step\n"
     ]
    },
    {
     "name": "stderr",
     "output_type": "stream",
     "text": [
      "\n",
      "A value is trying to be set on a copy of a slice from a DataFrame.\n",
      "Try using .loc[row_indexer,col_indexer] = value instead\n",
      "\n",
      "See the caveats in the documentation: https://pandas.pydata.org/pandas-docs/stable/user_guide/indexing.html#returning-a-view-versus-a-copy\n"
     ]
    },
    {
     "data": {
      "text/plain": [
       "array([[4.1945095],\n",
       "       [4.5004263]], dtype=float32)"
      ]
     },
     "execution_count": 13,
     "metadata": {},
     "output_type": "execute_result"
    }
   ],
   "source": [
    "teambat = pd.read_csv('data/team_batting.csv', index_col = 0)\n",
    "# print(teambat.head())\n",
    "pitchseas = pd.read_csv('data/pitcher_season_stats.csv', index_col = 0)\n",
    "df = pd.read_csv(\"data/all_stats.csv\")\n",
    "# print(len(teambat.columns))\n",
    "# print(len(pitchseas.columns))\n",
    "def predict_player(team_data, pitch_season_data, name,opponent, pca, model, ct):\n",
    "    td = team_data[team_data['Team'] == opponent]\n",
    "    psd = pitch_season_data[pitch_season_data['Name'] == name]\n",
    "    psd['Opp'] = opponent\n",
    "    team=psd['Team'].values[0]\n",
    "    # print(len(psd.columns))\n",
    "    # print(len(td.columns))\n",
    "    full_df = psd.merge(td, left_on = 'Opp', right_on = 'Team')\n",
    "    full_df = full_df.drop(columns = ['Name', 'CT%_y', 'CTv_y', 'CB%_y', 'CBv_y', 'CH%_y', \n",
    "              'CHv_y', 'wCT_y', 'wCB_y', 'wCH_y', 'wCT/C_y', 'wCB/C_y', 'wCH/C_y',\n",
    "             'FBv_y', 'SL%_y', 'SLv_y', 'SF%_y', 'SFv_y', 'XX%_y', 'wFB_y', 'wSL_y','wSF_y', 'wFB/C_y', 'wSL/C_y', 'wSF/C',\n",
    "                          'XX%_x', 'SF%_x', 'wCB/C_x', 'wSF_x', 'Dol', 'wCH_x', 'CB%_x', 'wCH/C_x', 'CBv_x', 'wCB_x', 'CTv_x', \n",
    "                           'Team_y', 'wSL_x', 'wCT_x', 'wCT/C_x', 'CT%_x', 'SL%_x', 'CH%_x', 'CHv_x', 'wSL/C_x', 'SFv_x', 'SLv_x'])\n",
    "    full_df = full_df.dropna(axis = 1)\n",
    "    full_df['Team_x'] = team\n",
    "    print(full_df['Team_x'])\n",
    "    print(full_df['Opp'])\n",
    "    # print(full_df.columns.tolist())\n",
    "    # print(len(full_df.columns))\n",
    "    full_df1 = ct.transform(full_df)\n",
    "    full_df = pd.DataFrame(full_df1, columns = num_feats + list(ct.named_transformers_['onehotencoder'].get_feature_names_out()))\n",
    "    print(full_df.columns[full_df.isna().any()].tolist())\n",
    "    df_pred = pca.transform(full_df)\n",
    "    pred = model.predict(df_pred)\n",
    "    return pred\n",
    "predict_player(teambat, pitchseas, 'Carlos Rodon', 'Los Angeles', pca, model, ct)"
   ]
  },
  {
   "cell_type": "code",
   "execution_count": 14,
   "id": "069f3c69-b391-4b61-8874-e2787342864b",
   "metadata": {},
   "outputs": [
    {
     "name": "stdout",
     "output_type": "stream",
     "text": [
      "305\n"
     ]
    }
   ],
   "source": [
    "df = pd.read_csv(\"data/all_stats.csv\")\n",
    "print(len(df.columns))"
   ]
  },
  {
   "cell_type": "code",
   "execution_count": null,
   "id": "1b15da29-54b4-4d66-b367-c4b1e4eb2cf9",
   "metadata": {},
   "outputs": [],
   "source": []
  }
 ],
 "metadata": {
  "kernelspec": {
   "display_name": "Python 3 (ipykernel)",
   "language": "python",
   "name": "python3"
  },
  "language_info": {
   "codemirror_mode": {
    "name": "ipython",
    "version": 3
   },
   "file_extension": ".py",
   "mimetype": "text/x-python",
   "name": "python",
   "nbconvert_exporter": "python",
   "pygments_lexer": "ipython3",
   "version": "3.11.4"
  }
 },
 "nbformat": 4,
 "nbformat_minor": 5
}
