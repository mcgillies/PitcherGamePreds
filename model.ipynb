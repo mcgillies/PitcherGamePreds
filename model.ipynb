{
 "cells": [
  {
   "cell_type": "code",
   "execution_count": null,
   "id": "30779afb-76c5-4994-9652-1a34b638c7e3",
   "metadata": {},
   "outputs": [],
   "source": [
    "from tensorflow import kerastuner as kt\n",
    "import pandas as pd\n",
    "from sklearn.metrics import mean_squared_error\n",
    "import numpy as np\n",
    "from collections import deque\n",
    "\n",
    "import matplotlib.pyplot as plt\n",
    "import numpy as np\n",
    "import pandas as pd\n",
    "\n",
    "import statistics\n",
    "\n",
    "sys.path.append(\"code/.\")\n",
    "from sklearn import datasets\n",
    "from sklearn.compose import ColumnTransformer, make_column_transformer\n",
    "from sklearn.metrics import make_scorer, mean_squared_error, r2_score\n",
    "from sklearn.metrics import mean_absolute_percentage_error\n",
    "from sklearn.dummy import DummyClassifier, DummyRegressor\n",
    "from sklearn.ensemble import RandomForestClassifier, RandomForestRegressor\n",
    "from sklearn.impute import SimpleImputer\n",
    "from sklearn.linear_model import LogisticRegression, Ridge\n",
    "from sklearn.model_selection import (\n",
    "    GridSearchCV,\n",
    "    RandomizedSearchCV,\n",
    "    cross_val_score,\n",
    "    cross_validate,\n",
    "    train_test_split,\n",
    ")\n",
    "from sklearn.pipeline import Pipeline, make_pipeline\n",
    "from sklearn.preprocessing import OneHotEncoder, OrdinalEncoder, StandardScaler\n",
    "from sklearn.svm import SVC, SVR\n",
    "from sklearn.tree import DecisionTreeClassifier\n",
    "from sklearn.metrics import average_precision_score\n",
    "from catboost import CatBoostClassifier, CatBoostRegressor\n",
    "from sklearn.tree import DecisionTreeClassifier, DecisionTreeRegressor\n",
    "from xgboost import XGBClassifier, XGBRegressor\n",
    "from sklearn.feature_selection import SequentialFeatureSelector\n",
    "from sklearn.ensemble import StackingClassifier\n",
    "import eli5"
   ]
  },
  {
   "cell_type": "code",
   "execution_count": null,
   "id": "7fec8083-ebd9-42d9-bbe5-d988bac65d9b",
   "metadata": {},
   "outputs": [],
   "source": [
    "data = pd.read_csv(\"data/data_preds.csv\")\n",
    "data.shape"
   ]
  },
  {
   "cell_type": "code",
   "execution_count": null,
   "id": "ab9b8d49-6e25-4e3c-ae83-570b05f0db2b",
   "metadata": {},
   "outputs": [],
   "source": [
    "X = data.drop(columns = 'K')\n",
    "y = data['K']\n",
    "X_train, X_test, y_train, y_test = train_test_split(X, y, train_size = 0.7, random_state = 123)"
   ]
  },
  {
   "cell_type": "code",
   "execution_count": null,
   "id": "88e55b2f-42e1-4d51-b697-a1f2fc589e7b",
   "metadata": {},
   "outputs": [],
   "source": [
    "ord_feats = ['Date']\n",
    "cat_feats = ['Team_x', 'Opp']\n",
    "num_feats = data.drop(columns = ['Date', 'Team_x', 'Opp']).columns.tolist()"
   ]
  },
  {
   "cell_type": "code",
   "execution_count": null,
   "id": "c83774f4-57e6-4186-a395-55e4cb93064b",
   "metadata": {},
   "outputs": [],
   "source": [
    "ct = make_column_transformer(\n",
    "    (StandardScaler(), num_feats),\n",
    "    (OneHotEncoder(), cat_feats), \n",
    "    (OrdinalEncoder(), ord_feats))"
   ]
  },
  {
   "cell_type": "code",
   "execution_count": null,
   "id": "eecb9e31-4b4a-4252-a7e6-0085e320b3a3",
   "metadata": {},
   "outputs": [],
   "source": [
    "transformed_x_train = ct.fit_transform(X_train)\n",
    "transformed_x_test = ct.transform(X_test)"
   ]
  },
  {
   "cell_type": "code",
   "execution_count": null,
   "id": "c84f70b3-a3ab-4e0a-8900-ffc0057b610a",
   "metadata": {},
   "outputs": [],
   "source": [
    "def build_model(hp):\n",
    "  model = Sequential()\n",
    "  counter = 0\n",
    "  for i in range(hp.Int('num_layers',min_value=1,max_value=40)):\n",
    "    if counter == 0:\n",
    "      model.add(Dense(hp.Int('units' + str(i), min_value=8, max_value=300,step=8),activation= hp.Choice('activation' + str(i), values=['relu','tanh','sigmoid']),input_dim=8))\n",
    "      model.add(Dropout(hp.Choice('dropout' + str(i), values=[0.1,0.2,0.3,0.4,0.5,0.6])))\n",
    "    else:\n",
    "      model.add(Dense(hp.Int('units' + str(i), min_value=8, max_value=128,step=8),activation= hp.Choice('activation' + str(i), values=['relu','tanh','sigmoid'])))\n",
    "      model.add(Dropout(hp.Choice('dropout' + str(i), values=[0.1,0.2,0.3,0.4,0.5,0.6])))\n",
    "    counter+=1\n",
    "  model.add(Dense(1,activation='sigmoid'))\n",
    "  model.compile(optimizer=hp.Choice('optimizer',values=['rmsprop','adam','sgd','nadam','adadelta']),\n",
    "                  loss='binary_crossentropy',\n",
    "                  metrics=['accuracy'])\n",
    "  return model\n",
    "\n",
    "model.fit(transformed_x_train, y_train, epochs = 100, batch_size = 50)\n",
    "preds = mod.predict(transformed_x_test)\n",
    "np.sqrt(mean_squared_error(y_test, preds)\n"
   ]
  },
  {
   "cell_type": "code",
   "execution_count": null,
   "id": "868c2b6a-e71f-43c0-a3f2-ca59f4635831",
   "metadata": {},
   "outputs": [],
   "source": []
  }
 ],
 "metadata": {
  "kernelspec": {
   "display_name": "Python 3 (ipykernel)",
   "language": "python",
   "name": "python3"
  },
  "language_info": {
   "codemirror_mode": {
    "name": "ipython",
    "version": 3
   },
   "file_extension": ".py",
   "mimetype": "text/x-python",
   "name": "python",
   "nbconvert_exporter": "python",
   "pygments_lexer": "ipython3",
   "version": "3.10.8"
  }
 },
 "nbformat": 4,
 "nbformat_minor": 5
}
