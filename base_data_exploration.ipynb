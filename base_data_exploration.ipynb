{
 "cells": [
  {
   "cell_type": "code",
   "execution_count": 1,
   "id": "bbffaa30-e28f-4690-86a6-81f304da0379",
   "metadata": {},
   "outputs": [],
   "source": [
    "import pandas as pd\n",
    "import numpy as np\n",
    "import pybaseball as pb\n",
    "from datetime import date, timedelta, datetime\n",
    "import time"
   ]
  },
  {
   "cell_type": "code",
   "execution_count": 2,
   "id": "2e462ae0-679b-4962-93d3-c05918a6c77b",
   "metadata": {},
   "outputs": [
    {
     "data": {
      "text/plain": [
       "Index(['Season', 'Team', 'Age', 'G', 'AB', 'PA', 'H', '1B', '2B', '3B', 'HR',\n",
       "       'R', 'RBI', 'BB', 'IBB', 'SO', 'HBP', 'SF', 'SH', 'GDP', 'SB', 'CS',\n",
       "       'AVG', 'GB', 'FB', 'LD', 'IFFB', 'Pitches', 'Balls', 'Strikes', 'IFH',\n",
       "       'BU', 'BUH', 'BB%', 'K%', 'BB/K', 'OBP', 'SLG', 'OPS', 'ISO', 'BABIP',\n",
       "       'GB/FB', 'LD%', 'GB%', 'FB%', 'IFFB%', 'HR/FB', 'IFH%', 'BUH%'],\n",
       "      dtype='object')"
      ]
     },
     "execution_count": 2,
     "metadata": {},
     "output_type": "execute_result"
    }
   ],
   "source": [
    "team_data = pb.team_batting(2023)\n",
    "team_data.iloc[:,1:50].columns"
   ]
  },
  {
   "cell_type": "code",
   "execution_count": 3,
   "id": "9beb022f-95b4-40fe-855a-407a6f157fcf",
   "metadata": {},
   "outputs": [
    {
     "data": {
      "text/plain": [
       "Index(['wOBA', 'wRAA', 'wRC', 'Bat', 'Fld', 'Rep', 'Pos', 'RAR', 'WAR', 'Dol',\n",
       "       'Spd', 'wRC+', 'WPA', '-WPA', '+WPA', 'RE24', 'REW', 'pLI', 'phLI',\n",
       "       'PH', 'WPA/LI', 'Clutch', 'FB% (Pitch)', 'FBv', 'SL%', 'SLv', 'CT%',\n",
       "       'CTv', 'CB%', 'CBv', 'CH%', 'CHv', 'SF%', 'SFv', 'KN%', 'KNv', 'XX%',\n",
       "       'PO%', 'wFB', 'wSL', 'wCT', 'wCB', 'wCH', 'wSF', 'wKN', 'wFB/C',\n",
       "       'wSL/C', 'wCT/C', 'wCB/C', 'wCH/C'],\n",
       "      dtype='object')"
      ]
     },
     "execution_count": 3,
     "metadata": {},
     "output_type": "execute_result"
    }
   ],
   "source": [
    "team_data.iloc[:,50:100].columns"
   ]
  },
  {
   "cell_type": "code",
   "execution_count": 4,
   "id": "6da15098-a87b-4cb1-aa5e-8a42d362229d",
   "metadata": {},
   "outputs": [
    {
     "data": {
      "text/plain": [
       "Index(['wSF/C', 'wKN/C', 'O-Swing%', 'Z-Swing%', 'Swing%', 'O-Contact%',\n",
       "       'Z-Contact%', 'Contact%', 'Zone%', 'F-Strike%', 'SwStr%', 'BsR',\n",
       "       'FA% (sc)', 'FT% (sc)', 'FC% (sc)', 'FS% (sc)', 'FO% (sc)', 'SI% (sc)',\n",
       "       'SL% (sc)', 'CU% (sc)', 'KC% (sc)', 'EP% (sc)', 'CH% (sc)', 'SC% (sc)',\n",
       "       'KN% (sc)', 'UN% (sc)', 'vFA (sc)', 'vFT (sc)', 'vFC (sc)', 'vFS (sc)',\n",
       "       'vFO (sc)', 'vSI (sc)', 'vSL (sc)', 'vCU (sc)', 'vKC (sc)', 'vEP (sc)',\n",
       "       'vCH (sc)', 'vSC (sc)', 'vKN (sc)', 'FA-X (sc)', 'FT-X (sc)',\n",
       "       'FC-X (sc)', 'FS-X (sc)', 'FO-X (sc)', 'SI-X (sc)', 'SL-X (sc)',\n",
       "       'CU-X (sc)', 'KC-X (sc)', 'EP-X (sc)', 'CH-X (sc)'],\n",
       "      dtype='object')"
      ]
     },
     "execution_count": 4,
     "metadata": {},
     "output_type": "execute_result"
    }
   ],
   "source": [
    "team_data.iloc[:,100:150].columns"
   ]
  },
  {
   "cell_type": "code",
   "execution_count": 5,
   "id": "3234a86f-fcbc-4121-a254-9df3ed24c967",
   "metadata": {},
   "outputs": [
    {
     "data": {
      "text/plain": [
       "Index(['SC-X (sc)', 'KN-X (sc)', 'FA-Z (sc)', 'FT-Z (sc)', 'FC-Z (sc)',\n",
       "       'FS-Z (sc)', 'FO-Z (sc)', 'SI-Z (sc)', 'SL-Z (sc)', 'CU-Z (sc)',\n",
       "       'KC-Z (sc)', 'EP-Z (sc)', 'CH-Z (sc)', 'SC-Z (sc)', 'KN-Z (sc)',\n",
       "       'wFA (sc)', 'wFT (sc)', 'wFC (sc)', 'wFS (sc)', 'wFO (sc)', 'wSI (sc)',\n",
       "       'wSL (sc)', 'wCU (sc)', 'wKC (sc)', 'wEP (sc)', 'wCH (sc)', 'wSC (sc)',\n",
       "       'wKN (sc)', 'wFA/C (sc)', 'wFT/C (sc)', 'wFC/C (sc)', 'wFS/C (sc)',\n",
       "       'wFO/C (sc)', 'wSI/C (sc)', 'wSL/C (sc)', 'wCU/C (sc)', 'wKC/C (sc)',\n",
       "       'wEP/C (sc)', 'wCH/C (sc)', 'wSC/C (sc)', 'wKN/C (sc)', 'O-Swing% (sc)',\n",
       "       'Z-Swing% (sc)', 'Swing% (sc)', 'O-Contact% (sc)', 'Z-Contact% (sc)',\n",
       "       'Contact% (sc)', 'Zone% (sc)', 'Pace', 'Def'],\n",
       "      dtype='object')"
      ]
     },
     "execution_count": 5,
     "metadata": {},
     "output_type": "execute_result"
    }
   ],
   "source": [
    "team_data.iloc[:,150:200].columns"
   ]
  },
  {
   "cell_type": "code",
   "execution_count": 6,
   "id": "a68227dd-4c7d-40f5-a8d7-5e8b7996dfca",
   "metadata": {},
   "outputs": [
    {
     "data": {
      "text/plain": [
       "Index(['wSB', 'UBR', 'Age Rng', 'Off', 'Lg', 'wGDP', 'Pull%', 'Cent%', 'Oppo%',\n",
       "       'Soft%', 'Med%', 'Hard%', 'TTO%', 'CH% (pi)', 'CS% (pi)', 'CU% (pi)',\n",
       "       'FA% (pi)', 'FC% (pi)', 'FS% (pi)', 'KN% (pi)', 'SB% (pi)', 'SI% (pi)',\n",
       "       'SL% (pi)', 'XX% (pi)', 'vCH (pi)', 'vCS (pi)', 'vCU (pi)', 'vFA (pi)',\n",
       "       'vFC (pi)', 'vFS (pi)', 'vKN (pi)', 'vSB (pi)', 'vSI (pi)', 'vSL (pi)',\n",
       "       'vXX (pi)', 'CH-X (pi)', 'CS-X (pi)', 'CU-X (pi)', 'FA-X (pi)',\n",
       "       'FC-X (pi)', 'FS-X (pi)', 'KN-X (pi)', 'SB-X (pi)', 'SI-X (pi)',\n",
       "       'SL-X (pi)', 'XX-X (pi)', 'CH-Z (pi)', 'CS-Z (pi)', 'CU-Z (pi)',\n",
       "       'FA-Z (pi)'],\n",
       "      dtype='object')"
      ]
     },
     "execution_count": 6,
     "metadata": {},
     "output_type": "execute_result"
    }
   ],
   "source": [
    "team_data.iloc[:,200:250].columns"
   ]
  },
  {
   "cell_type": "code",
   "execution_count": 7,
   "id": "ce62f6ba-bf78-4048-a883-d5668db71fb0",
   "metadata": {},
   "outputs": [
    {
     "data": {
      "text/plain": [
       "Index(['FC-Z (pi)', 'FS-Z (pi)', 'KN-Z (pi)', 'SB-Z (pi)', 'SI-Z (pi)',\n",
       "       'SL-Z (pi)', 'XX-Z (pi)', 'wCH (pi)', 'wCS (pi)', 'wCU (pi)',\n",
       "       'wFA (pi)', 'wFC (pi)', 'wFS (pi)', 'wKN (pi)', 'wSB (pi)', 'wSI (pi)',\n",
       "       'wSL (pi)', 'wXX (pi)', 'wCH/C (pi)', 'wCS/C (pi)', 'wCU/C (pi)',\n",
       "       'wFA/C (pi)', 'wFC/C (pi)', 'wFS/C (pi)', 'wKN/C (pi)', 'wSB/C (pi)',\n",
       "       'wSI/C (pi)', 'wSL/C (pi)', 'wXX/C (pi)', 'O-Swing% (pi)',\n",
       "       'Z-Swing% (pi)', 'Swing% (pi)', 'O-Contact% (pi)', 'Z-Contact% (pi)',\n",
       "       'Contact% (pi)', 'Zone% (pi)', 'Pace (pi)', 'FRM', 'AVG+', 'BB%+',\n",
       "       'K%+', 'OBP+', 'SLG+', 'ISO+', 'BABIP+', 'LD+%', 'GB%+', 'FB%+',\n",
       "       'HR/FB%+', 'Pull%+'],\n",
       "      dtype='object')"
      ]
     },
     "execution_count": 7,
     "metadata": {},
     "output_type": "execute_result"
    }
   ],
   "source": [
    "team_data.iloc[:,250:300].columns"
   ]
  },
  {
   "cell_type": "code",
   "execution_count": 8,
   "id": "26b565aa-72a4-4525-8fe2-677ea01ac16f",
   "metadata": {},
   "outputs": [
    {
     "data": {
      "text/plain": [
       "Index(['Cent%+', 'Oppo%+', 'Soft%+', 'Med%+', 'Hard%+', 'EV', 'LA', 'Barrels',\n",
       "       'Barrel%', 'maxEV', 'HardHit', 'HardHit%', 'Events', 'CStr%', 'CSW%',\n",
       "       'xBA', 'xSLG', 'xwOBA', 'L-WAR'],\n",
       "      dtype='object')"
      ]
     },
     "execution_count": 8,
     "metadata": {},
     "output_type": "execute_result"
    }
   ],
   "source": [
    "team_data.iloc[:,300:].columns"
   ]
  },
  {
   "cell_type": "code",
   "execution_count": 9,
   "id": "59e0f20b-c6ba-4973-879a-5bfd76e36cda",
   "metadata": {},
   "outputs": [
    {
     "data": {
      "text/html": [
       "<div>\n",
       "<style scoped>\n",
       "    .dataframe tbody tr th:only-of-type {\n",
       "        vertical-align: middle;\n",
       "    }\n",
       "\n",
       "    .dataframe tbody tr th {\n",
       "        vertical-align: top;\n",
       "    }\n",
       "\n",
       "    .dataframe thead th {\n",
       "        text-align: right;\n",
       "    }\n",
       "</style>\n",
       "<table border=\"1\" class=\"dataframe\">\n",
       "  <thead>\n",
       "    <tr style=\"text-align: right;\">\n",
       "      <th></th>\n",
       "      <th>Team</th>\n",
       "      <th>Age</th>\n",
       "      <th>G</th>\n",
       "      <th>AB</th>\n",
       "      <th>PA</th>\n",
       "      <th>H</th>\n",
       "      <th>1B</th>\n",
       "      <th>2B</th>\n",
       "      <th>3B</th>\n",
       "      <th>HR</th>\n",
       "      <th>...</th>\n",
       "      <th>Barrel%</th>\n",
       "      <th>maxEV</th>\n",
       "      <th>HardHit</th>\n",
       "      <th>HardHit%</th>\n",
       "      <th>Events</th>\n",
       "      <th>CStr%</th>\n",
       "      <th>CSW%</th>\n",
       "      <th>xBA</th>\n",
       "      <th>xSLG</th>\n",
       "      <th>xwOBA</th>\n",
       "    </tr>\n",
       "  </thead>\n",
       "  <tbody>\n",
       "    <tr>\n",
       "      <th>0</th>\n",
       "      <td>ATL</td>\n",
       "      <td>29</td>\n",
       "      <td>1010</td>\n",
       "      <td>2455</td>\n",
       "      <td>2743</td>\n",
       "      <td>661</td>\n",
       "      <td>403</td>\n",
       "      <td>127</td>\n",
       "      <td>5</td>\n",
       "      <td>126</td>\n",
       "      <td>...</td>\n",
       "      <td>0.122</td>\n",
       "      <td>118.6</td>\n",
       "      <td>859</td>\n",
       "      <td>0.457</td>\n",
       "      <td>1878</td>\n",
       "      <td>0.142</td>\n",
       "      <td>0.263</td>\n",
       "      <td>NaN</td>\n",
       "      <td>NaN</td>\n",
       "      <td>NaN</td>\n",
       "    </tr>\n",
       "    <tr>\n",
       "      <th>1</th>\n",
       "      <td>TBR</td>\n",
       "      <td>28</td>\n",
       "      <td>1064</td>\n",
       "      <td>2518</td>\n",
       "      <td>2832</td>\n",
       "      <td>662</td>\n",
       "      <td>396</td>\n",
       "      <td>138</td>\n",
       "      <td>11</td>\n",
       "      <td>117</td>\n",
       "      <td>...</td>\n",
       "      <td>0.093</td>\n",
       "      <td>114.5</td>\n",
       "      <td>805</td>\n",
       "      <td>0.423</td>\n",
       "      <td>1905</td>\n",
       "      <td>0.158</td>\n",
       "      <td>0.277</td>\n",
       "      <td>NaN</td>\n",
       "      <td>NaN</td>\n",
       "      <td>NaN</td>\n",
       "    </tr>\n",
       "    <tr>\n",
       "      <th>2</th>\n",
       "      <td>TEX</td>\n",
       "      <td>29</td>\n",
       "      <td>996</td>\n",
       "      <td>2483</td>\n",
       "      <td>2786</td>\n",
       "      <td>675</td>\n",
       "      <td>417</td>\n",
       "      <td>154</td>\n",
       "      <td>8</td>\n",
       "      <td>96</td>\n",
       "      <td>...</td>\n",
       "      <td>0.092</td>\n",
       "      <td>115.1</td>\n",
       "      <td>806</td>\n",
       "      <td>0.425</td>\n",
       "      <td>1896</td>\n",
       "      <td>0.159</td>\n",
       "      <td>0.261</td>\n",
       "      <td>NaN</td>\n",
       "      <td>NaN</td>\n",
       "      <td>NaN</td>\n",
       "    </tr>\n",
       "    <tr>\n",
       "      <th>3</th>\n",
       "      <td>LAD</td>\n",
       "      <td>29</td>\n",
       "      <td>1077</td>\n",
       "      <td>2432</td>\n",
       "      <td>2796</td>\n",
       "      <td>586</td>\n",
       "      <td>331</td>\n",
       "      <td>127</td>\n",
       "      <td>12</td>\n",
       "      <td>116</td>\n",
       "      <td>...</td>\n",
       "      <td>0.102</td>\n",
       "      <td>112.7</td>\n",
       "      <td>774</td>\n",
       "      <td>0.424</td>\n",
       "      <td>1826</td>\n",
       "      <td>0.169</td>\n",
       "      <td>0.278</td>\n",
       "      <td>NaN</td>\n",
       "      <td>NaN</td>\n",
       "      <td>NaN</td>\n",
       "    </tr>\n",
       "    <tr>\n",
       "      <th>4</th>\n",
       "      <td>LAA</td>\n",
       "      <td>28</td>\n",
       "      <td>1040</td>\n",
       "      <td>2517</td>\n",
       "      <td>2842</td>\n",
       "      <td>645</td>\n",
       "      <td>408</td>\n",
       "      <td>122</td>\n",
       "      <td>7</td>\n",
       "      <td>108</td>\n",
       "      <td>...</td>\n",
       "      <td>0.095</td>\n",
       "      <td>117.2</td>\n",
       "      <td>799</td>\n",
       "      <td>0.420</td>\n",
       "      <td>1901</td>\n",
       "      <td>0.147</td>\n",
       "      <td>0.265</td>\n",
       "      <td>NaN</td>\n",
       "      <td>NaN</td>\n",
       "      <td>NaN</td>\n",
       "    </tr>\n",
       "  </tbody>\n",
       "</table>\n",
       "<p>5 rows × 148 columns</p>\n",
       "</div>"
      ],
      "text/plain": [
       "  Team  Age     G    AB    PA    H   1B   2B  3B   HR  ...  Barrel%  maxEV  \\\n",
       "0  ATL   29  1010  2455  2743  661  403  127   5  126  ...    0.122  118.6   \n",
       "1  TBR   28  1064  2518  2832  662  396  138  11  117  ...    0.093  114.5   \n",
       "2  TEX   29   996  2483  2786  675  417  154   8   96  ...    0.092  115.1   \n",
       "3  LAD   29  1077  2432  2796  586  331  127  12  116  ...    0.102  112.7   \n",
       "4  LAA   28  1040  2517  2842  645  408  122   7  108  ...    0.095  117.2   \n",
       "\n",
       "   HardHit  HardHit%  Events  CStr%   CSW%  xBA  xSLG  xwOBA  \n",
       "0      859     0.457    1878  0.142  0.263  NaN   NaN    NaN  \n",
       "1      805     0.423    1905  0.158  0.277  NaN   NaN    NaN  \n",
       "2      806     0.425    1896  0.159  0.261  NaN   NaN    NaN  \n",
       "3      774     0.424    1826  0.169  0.278  NaN   NaN    NaN  \n",
       "4      799     0.420    1901  0.147  0.265  NaN   NaN    NaN  \n",
       "\n",
       "[5 rows x 148 columns]"
      ]
     },
     "execution_count": 9,
     "metadata": {},
     "output_type": "execute_result"
    }
   ],
   "source": [
    "team_data = team_data[['Team', 'Age', 'G', 'AB', 'PA', 'H', '1B', '2B', '3B', 'HR',\n",
    "       'R', 'RBI', 'BB', 'IBB', 'SO', 'HBP', 'SF', 'SH', 'GDP', 'SB', 'CS',\n",
    "       'AVG', 'GB', 'FB', 'LD', 'IFFB', 'Pitches', 'Balls', 'Strikes', 'IFH',\n",
    "       'BU', 'BUH', 'BB%', 'K%', 'BB/K', 'OBP', 'SLG', 'OPS', 'ISO', 'BABIP',\n",
    "       'GB/FB', 'LD%', 'GB%', 'FB%', 'IFFB%', 'HR/FB', 'IFH%', 'BUH%','wOBA', 'wRAA', 'wRC', 'Bat', 'Fld', 'Rep', 'Pos', 'RAR', 'WAR', 'Dol',\n",
    "       'Spd', 'wRC+', 'WPA', '-WPA', '+WPA', 'RE24', 'REW', 'pLI', 'phLI',\n",
    "       'PH', 'WPA/LI', 'Clutch', 'FB% (Pitch)', 'FBv', 'SL%', 'SLv', 'CT%',\n",
    "       'CTv', 'CB%', 'CBv', 'CH%', 'CHv', 'SF%', 'SFv', 'KN%', 'KNv', 'XX%',\n",
    "       'PO%', 'wFB', 'wSL', 'wCT', 'wCB', 'wCH', 'wSF', 'wKN', 'wFB/C',\n",
    "       'wSL/C', 'wCT/C', 'wCB/C', 'wCH/C','O-Swing%', 'Z-Swing%', 'Swing%', 'O-Contact%',\n",
    "       'Z-Contact%', 'Contact%', 'Zone%', 'F-Strike%', 'SwStr%', 'BsR','O-Swing% (sc)',\n",
    "       'Z-Swing% (sc)', 'Swing% (sc)', 'O-Contact% (sc)', 'Z-Contact% (sc)',\n",
    "       'Contact% (sc)', 'Zone% (sc)', 'Pace', 'Def','FRM', 'AVG+', 'BB%+',\n",
    "       'K%+', 'OBP+', 'SLG+', 'ISO+', 'BABIP+', 'LD+%', 'GB%+', 'FB%+',\n",
    "       'HR/FB%+', 'Pull%+','Cent%+', 'Oppo%+', 'Soft%+', 'Med%+', 'Hard%+', 'EV', 'LA', 'Barrels',\n",
    "       'Barrel%', 'maxEV', 'HardHit', 'HardHit%', 'Events', 'CStr%', 'CSW%',\n",
    "       'xBA', 'xSLG', 'xwOBA']]\n",
    "team_data.dropna(axis = 1)\n",
    "team_data.head()"
   ]
  },
  {
   "cell_type": "code",
   "execution_count": 11,
   "id": "a84c2cff-7ac1-4abd-8401-287da79c75fc",
   "metadata": {},
   "outputs": [
    {
     "name": "stdout",
     "output_type": "stream",
     "text": [
      "2023-04-30\n"
     ]
    },
    {
     "ename": "IndexError",
     "evalue": "list index out of range",
     "output_type": "error",
     "traceback": [
      "\u001b[0;31m---------------------------------------------------------------------------\u001b[0m",
      "\u001b[0;31mIndexError\u001b[0m                                Traceback (most recent call last)",
      "Cell \u001b[0;32mIn[11], line 10\u001b[0m\n\u001b[1;32m      8\u001b[0m     \u001b[38;5;28mprint\u001b[39m(x)\n\u001b[1;32m      9\u001b[0m     time\u001b[38;5;241m.\u001b[39msleep(\u001b[38;5;241m15\u001b[39m)\n\u001b[0;32m---> 10\u001b[0m     pitch_data_daily \u001b[38;5;241m=\u001b[39m \u001b[43mpb\u001b[49m\u001b[38;5;241;43m.\u001b[39;49m\u001b[43mpitching_stats_range\u001b[49m\u001b[43m(\u001b[49m\u001b[43mx\u001b[49m\u001b[43m)\u001b[49m\n\u001b[1;32m     11\u001b[0m     dfs[date] \u001b[38;5;241m=\u001b[39m pitch_data_daily\n\u001b[1;32m     12\u001b[0m \u001b[38;5;66;03m# pitch_data_daily = pb.pitching_stats_range(\"2023-05-28\")\u001b[39;00m\n",
      "File \u001b[0;32m/Applications/miniconda3/lib/python3.10/site-packages/pybaseball/cache/cache.py:58\u001b[0m, in \u001b[0;36mdf_cache.__call__.<locals>._cached\u001b[0;34m(*args, **kwargs)\u001b[0m\n\u001b[1;32m     55\u001b[0m result \u001b[38;5;241m=\u001b[39m \u001b[38;5;28mself\u001b[39m\u001b[38;5;241m.\u001b[39m_safe_load_func_cache(func_data)\n\u001b[1;32m     57\u001b[0m \u001b[38;5;28;01mif\u001b[39;00m result \u001b[38;5;129;01mis\u001b[39;00m \u001b[38;5;28;01mNone\u001b[39;00m:\n\u001b[0;32m---> 58\u001b[0m     result \u001b[38;5;241m=\u001b[39m \u001b[43mfunc\u001b[49m\u001b[43m(\u001b[49m\u001b[38;5;241;43m*\u001b[39;49m\u001b[43margs\u001b[49m\u001b[43m,\u001b[49m\u001b[43m \u001b[49m\u001b[38;5;241;43m*\u001b[39;49m\u001b[38;5;241;43m*\u001b[39;49m\u001b[43mkwargs\u001b[49m\u001b[43m)\u001b[49m\n\u001b[1;32m     59\u001b[0m     \u001b[38;5;28;01mif\u001b[39;00m \u001b[38;5;28mlen\u001b[39m(result) \u001b[38;5;241m>\u001b[39m \u001b[38;5;241m0\u001b[39m:\n\u001b[1;32m     60\u001b[0m         \u001b[38;5;28mself\u001b[39m\u001b[38;5;241m.\u001b[39m_safe_save_func_cache(func_data, result)\n",
      "File \u001b[0;32m/Applications/miniconda3/lib/python3.10/site-packages/pybaseball/league_pitching_stats.py:64\u001b[0m, in \u001b[0;36mpitching_stats_range\u001b[0;34m(start_dt, end_dt)\u001b[0m\n\u001b[1;32m     62\u001b[0m \u001b[38;5;66;03m# retrieve html from baseball reference\u001b[39;00m\n\u001b[1;32m     63\u001b[0m soup \u001b[38;5;241m=\u001b[39m get_soup(start_dt_date, end_dt_date)\n\u001b[0;32m---> 64\u001b[0m table \u001b[38;5;241m=\u001b[39m \u001b[43mget_table\u001b[49m\u001b[43m(\u001b[49m\u001b[43msoup\u001b[49m\u001b[43m)\u001b[49m\n\u001b[1;32m     65\u001b[0m table \u001b[38;5;241m=\u001b[39m table\u001b[38;5;241m.\u001b[39mdropna(how\u001b[38;5;241m=\u001b[39m\u001b[38;5;124m'\u001b[39m\u001b[38;5;124mall\u001b[39m\u001b[38;5;124m'\u001b[39m) \u001b[38;5;66;03m# drop if all columns are NA\u001b[39;00m\n\u001b[1;32m     66\u001b[0m \u001b[38;5;66;03m#fix some strange formatting for percentage columns\u001b[39;00m\n",
      "File \u001b[0;32m/Applications/miniconda3/lib/python3.10/site-packages/pybaseball/league_pitching_stats.py:29\u001b[0m, in \u001b[0;36mget_table\u001b[0;34m(soup)\u001b[0m\n\u001b[1;32m     28\u001b[0m \u001b[38;5;28;01mdef\u001b[39;00m \u001b[38;5;21mget_table\u001b[39m(soup: BeautifulSoup) \u001b[38;5;241m-\u001b[39m\u001b[38;5;241m>\u001b[39m pd\u001b[38;5;241m.\u001b[39mDataFrame:\n\u001b[0;32m---> 29\u001b[0m     table \u001b[38;5;241m=\u001b[39m \u001b[43msoup\u001b[49m\u001b[38;5;241;43m.\u001b[39;49m\u001b[43mfind_all\u001b[49m\u001b[43m(\u001b[49m\u001b[38;5;124;43m'\u001b[39;49m\u001b[38;5;124;43mtable\u001b[39;49m\u001b[38;5;124;43m'\u001b[39;49m\u001b[43m)\u001b[49m\u001b[43m[\u001b[49m\u001b[38;5;241;43m0\u001b[39;49m\u001b[43m]\u001b[49m\n\u001b[1;32m     30\u001b[0m     raw_data \u001b[38;5;241m=\u001b[39m []\n\u001b[1;32m     31\u001b[0m     headings \u001b[38;5;241m=\u001b[39m [th\u001b[38;5;241m.\u001b[39mget_text() \u001b[38;5;28;01mfor\u001b[39;00m th \u001b[38;5;129;01min\u001b[39;00m table\u001b[38;5;241m.\u001b[39mfind(\u001b[38;5;124m\"\u001b[39m\u001b[38;5;124mtr\u001b[39m\u001b[38;5;124m\"\u001b[39m)\u001b[38;5;241m.\u001b[39mfind_all(\u001b[38;5;124m\"\u001b[39m\u001b[38;5;124mth\u001b[39m\u001b[38;5;124m\"\u001b[39m)][\u001b[38;5;241m1\u001b[39m:]\n",
      "\u001b[0;31mIndexError\u001b[0m: list index out of range"
     ]
    }
   ],
   "source": [
    "sdate = date(2023,4,30)\n",
    "edate = datetime.today().strftime('%Y-%m-%d')\n",
    "dates = pd.date_range(sdate,edate,freq='d')\n",
    "dates = list(dates.format())\n",
    "# print(dates)\n",
    "dfs = {}\n",
    "for x in dates:\n",
    "    print(x)\n",
    "    time.sleep(15)\n",
    "    pitch_data_daily = pb.pitching_stats_range(x)\n",
    "    dfs[date] = pitch_data_daily\n",
    "# pitch_data_daily = pb.pitching_stats_range(\"2023-05-28\")\n",
    "pitch_data_daily = pd.concat(dfs)\n",
    "pitch_data_daily.head()"
   ]
  },
  {
   "cell_type": "code",
   "execution_count": null,
   "id": "b00a88ed-0d66-4239-872a-21b74c470f1b",
   "metadata": {},
   "outputs": [],
   "source": [
    "daily_ks = pitch_data_daily[['Name', 'SO', 'Opp', 'GS']]\n",
    "daily_ks_S = daily_ks[daily_ks[\"GS\"] == 1]\n",
    "daily_ks_S = daily_ks_S.rename(columns = {\"SO\":\"K\"})\n",
    "daily_ks_S = daily_ks_S.drop(columns = \"GS\")\n",
    "daily_ks_S.head()"
   ]
  },
  {
   "cell_type": "code",
   "execution_count": null,
   "id": "a4864b43-4502-43e6-9fd3-643c541b16c2",
   "metadata": {},
   "outputs": [],
   "source": [
    "pitch_season = pb.pitching_stats(2023, qual = 0)\n",
    "pitch_season.head()"
   ]
  },
  {
   "cell_type": "code",
   "execution_count": null,
   "id": "3cc9a9c3-b058-4db8-b45a-47fa2f5addfb",
   "metadata": {},
   "outputs": [],
   "source": [
    "pitch_season.iloc[:, :50].columns"
   ]
  },
  {
   "cell_type": "code",
   "execution_count": null,
   "id": "bd7821e8-117a-455d-b3a6-f605ec91a5f5",
   "metadata": {},
   "outputs": [],
   "source": [
    "pitch_season.iloc[:,50:100].columns"
   ]
  },
  {
   "cell_type": "code",
   "execution_count": null,
   "id": "ca279d9d-155c-48b7-bfad-28e18fb43bb0",
   "metadata": {},
   "outputs": [],
   "source": [
    "pitch_season.iloc[:, 100:150].columns"
   ]
  },
  {
   "cell_type": "code",
   "execution_count": null,
   "id": "6e7a5de7-a52f-4596-8af3-f1c8ac3ce7fd",
   "metadata": {},
   "outputs": [],
   "source": [
    "pitch_season.iloc[:, 150:200].columns"
   ]
  },
  {
   "cell_type": "code",
   "execution_count": null,
   "id": "51c314f8-802c-4385-9dec-485a97347b63",
   "metadata": {},
   "outputs": [],
   "source": [
    "pitch_season.iloc[:, 200:250].columns"
   ]
  },
  {
   "cell_type": "code",
   "execution_count": null,
   "id": "ff0097ec-87c6-412d-8571-ed61e42b8742",
   "metadata": {},
   "outputs": [],
   "source": [
    "pitch_season.iloc[:, 250:300].columns"
   ]
  },
  {
   "cell_type": "code",
   "execution_count": null,
   "id": "da2a1ae8-27df-4263-80cd-47ac90ec3a8d",
   "metadata": {},
   "outputs": [],
   "source": [
    "pitch_season.iloc[:, 300:350].columns"
   ]
  },
  {
   "cell_type": "code",
   "execution_count": null,
   "id": "65c6d6fd-c084-45b6-8019-3d205dcfac7c",
   "metadata": {},
   "outputs": [],
   "source": [
    "pitch_season = pitch_season[['Name', 'Team','W', 'L', 'WAR', 'ERA','CG', 'ShO','IP', 'TBF', 'H', 'R', 'ER', 'HR', 'BB',\n",
    "       'IBB', 'HBP', 'WP', 'BK', 'SO', 'GB', 'FB', 'LD', 'IFFB', 'Balls',\n",
    "       'Strikes', 'Pitches', 'RS', 'IFH', 'BU', 'BUH', 'K/9', 'BB/9', 'K/BB',\n",
    "       'H/9', 'HR/9', 'AVG', 'WHIP', 'BABIP', 'LOB%', 'FIP', 'GB/FB', 'LD%','GB%', \n",
    "       'FB%', 'IFFB%', 'HR/FB', 'IFH%', 'BUH%', 'tERA', 'xFIP', 'WPA',\n",
    "       '-WPA', '+WPA', 'RE24', 'REW', 'pLI', 'inLI', 'gmLI', 'exLI', 'Pulls',\n",
    "       'WPA/LI', 'Clutch', 'FB% 2', 'FBv', 'SL%', 'SLv', 'CT%', 'CTv', 'CB%',\n",
    "       'CBv', 'CH%', 'CHv', 'SF%', 'SFv', 'KN%', 'KNv', 'XX%', 'PO%', 'wFB',\n",
    "       'wSL', 'wCT', 'wCB', 'wCH', 'wSF', 'wKN', 'wFB/C','wSL/C', 'wCT/C', 'wCB/C', 'wCH/C', 'wSF/C', 'wKN/C', 'O-Swing%',\n",
    "       'Z-Swing%', 'Swing%', 'O-Contact%', 'Z-Contact%', 'Contact%', 'Zone%',\n",
    "       'F-Strike%', 'SwStr%', 'HLD', 'SD', 'MD', 'ERA-', 'FIP-', 'xFIP-', 'K%',\n",
    "       'BB%', 'SIERA', 'RS/9', 'E-F','K-BB%', 'Pull%',\n",
    "       'Cent%', 'Oppo%', 'Soft%', 'Med%', 'Hard%', 'kwERA', 'TTO%','Pace (pi)', 'FRM', 'K/9+', 'BB/9+', 'K/BB+', 'H/9+', 'HR/9+', 'AVG+',\n",
    "       'WHIP+', 'BABIP+', 'LOB%+', 'K%+', 'BB%+', 'LD%+', 'GB%+', 'FB%+',\n",
    "       'HR/FB%+', 'Pull%+', 'Cent%+', 'Oppo%+', 'Soft%+', 'Med%+', 'Hard%+',\n",
    "       'EV', 'LA', 'Barrels', 'Barrel%', 'maxEV', 'HardHit', 'HardHit%',\n",
    "       'Events', 'CStr%', 'CSW%', 'xERA']]\n",
    "pitch_season.head()"
   ]
  },
  {
   "cell_type": "code",
   "execution_count": null,
   "id": "8c986562-6434-4375-b4e2-2707928d1afe",
   "metadata": {},
   "outputs": [],
   "source": [
    "pitch_all = pitch_season.merge(daily_ks_S, on = \"Name\")\n",
    "pitch_all.head()"
   ]
  },
  {
   "cell_type": "code",
   "execution_count": null,
   "id": "a6890f84-429e-4407-b3ec-ed1bd9c51c03",
   "metadata": {},
   "outputs": [],
   "source": [
    "team_data['Team'].unique()"
   ]
  },
  {
   "cell_type": "code",
   "execution_count": null,
   "id": "74db5dfd-d0af-47d0-8da1-f3205bbaa6cd",
   "metadata": {},
   "outputs": [],
   "source": [
    "pitch_all['Opp'].unique()"
   ]
  },
  {
   "cell_type": "code",
   "execution_count": null,
   "id": "2920d0ce-315d-40ed-ba9e-f4d76cbeb944",
   "metadata": {},
   "outputs": [],
   "source": [
    "full_df = pitch_all.merge(team_data, left_on = \"Opp\", right_on = \""
   ]
  },
  {
   "cell_type": "code",
   "execution_count": null,
   "id": "7e63af82-8120-4a6b-afef-fe32c4e9c714",
   "metadata": {},
   "outputs": [],
   "source": []
  }
 ],
 "metadata": {
  "kernelspec": {
   "display_name": "Python 3 (ipykernel)",
   "language": "python",
   "name": "python3"
  },
  "language_info": {
   "codemirror_mode": {
    "name": "ipython",
    "version": 3
   },
   "file_extension": ".py",
   "mimetype": "text/x-python",
   "name": "python",
   "nbconvert_exporter": "python",
   "pygments_lexer": "ipython3",
   "version": "3.10.8"
  }
 },
 "nbformat": 4,
 "nbformat_minor": 5
}
