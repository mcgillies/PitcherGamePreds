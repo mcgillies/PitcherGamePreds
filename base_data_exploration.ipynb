{
 "cells": [
  {
   "cell_type": "code",
   "execution_count": 1,
   "id": "bbffaa30-e28f-4690-86a6-81f304da0379",
   "metadata": {},
   "outputs": [],
   "source": [
    "import pandas as pd\n",
    "import numpy as np\n",
    "import pybaseball as pb"
   ]
  },
  {
   "cell_type": "code",
   "execution_count": 11,
   "id": "2e462ae0-679b-4962-93d3-c05918a6c77b",
   "metadata": {},
   "outputs": [
    {
     "data": {
      "text/plain": [
       "Index(['Season', 'Team', 'Age', 'G', 'AB', 'PA', 'H', '1B', '2B', '3B', 'HR',\n",
       "       'R', 'RBI', 'BB', 'IBB', 'SO', 'HBP', 'SF', 'SH', 'GDP', 'SB', 'CS',\n",
       "       'AVG', 'GB', 'FB', 'LD', 'IFFB', 'Pitches', 'Balls', 'Strikes', 'IFH',\n",
       "       'BU', 'BUH', 'BB%', 'K%', 'BB/K', 'OBP', 'SLG', 'OPS', 'ISO', 'BABIP',\n",
       "       'GB/FB', 'LD%', 'GB%', 'FB%', 'IFFB%', 'HR/FB', 'IFH%', 'BUH%'],\n",
       "      dtype='object')"
      ]
     },
     "execution_count": 11,
     "metadata": {},
     "output_type": "execute_result"
    }
   ],
   "source": [
    "team_data = pb.team_batting(2023)\n",
    "team_data.iloc[:,1:50].columns"
   ]
  },
  {
   "cell_type": "code",
   "execution_count": 13,
   "id": "9beb022f-95b4-40fe-855a-407a6f157fcf",
   "metadata": {},
   "outputs": [
    {
     "data": {
      "text/plain": [
       "Index(['wOBA', 'wRAA', 'wRC', 'Bat', 'Fld', 'Rep', 'Pos', 'RAR', 'WAR', 'Dol',\n",
       "       'Spd', 'wRC+', 'WPA', '-WPA', '+WPA', 'RE24', 'REW', 'pLI', 'phLI',\n",
       "       'PH', 'WPA/LI', 'Clutch', 'FB% (Pitch)', 'FBv', 'SL%', 'SLv', 'CT%',\n",
       "       'CTv', 'CB%', 'CBv', 'CH%', 'CHv', 'SF%', 'SFv', 'KN%', 'KNv', 'XX%',\n",
       "       'PO%', 'wFB', 'wSL', 'wCT', 'wCB', 'wCH', 'wSF', 'wKN', 'wFB/C',\n",
       "       'wSL/C', 'wCT/C', 'wCB/C', 'wCH/C'],\n",
       "      dtype='object')"
      ]
     },
     "execution_count": 13,
     "metadata": {},
     "output_type": "execute_result"
    }
   ],
   "source": [
    "team_data.iloc[:,50:100].columns"
   ]
  },
  {
   "cell_type": "code",
   "execution_count": 14,
   "id": "6da15098-a87b-4cb1-aa5e-8a42d362229d",
   "metadata": {},
   "outputs": [
    {
     "data": {
      "text/plain": [
       "Index(['wSF/C', 'wKN/C', 'O-Swing%', 'Z-Swing%', 'Swing%', 'O-Contact%',\n",
       "       'Z-Contact%', 'Contact%', 'Zone%', 'F-Strike%', 'SwStr%', 'BsR',\n",
       "       'FA% (sc)', 'FT% (sc)', 'FC% (sc)', 'FS% (sc)', 'FO% (sc)', 'SI% (sc)',\n",
       "       'SL% (sc)', 'CU% (sc)', 'KC% (sc)', 'EP% (sc)', 'CH% (sc)', 'SC% (sc)',\n",
       "       'KN% (sc)', 'UN% (sc)', 'vFA (sc)', 'vFT (sc)', 'vFC (sc)', 'vFS (sc)',\n",
       "       'vFO (sc)', 'vSI (sc)', 'vSL (sc)', 'vCU (sc)', 'vKC (sc)', 'vEP (sc)',\n",
       "       'vCH (sc)', 'vSC (sc)', 'vKN (sc)', 'FA-X (sc)', 'FT-X (sc)',\n",
       "       'FC-X (sc)', 'FS-X (sc)', 'FO-X (sc)', 'SI-X (sc)', 'SL-X (sc)',\n",
       "       'CU-X (sc)', 'KC-X (sc)', 'EP-X (sc)', 'CH-X (sc)'],\n",
       "      dtype='object')"
      ]
     },
     "execution_count": 14,
     "metadata": {},
     "output_type": "execute_result"
    }
   ],
   "source": [
    "team_data.iloc[:,100:150].columns"
   ]
  },
  {
   "cell_type": "code",
   "execution_count": 15,
   "id": "3234a86f-fcbc-4121-a254-9df3ed24c967",
   "metadata": {},
   "outputs": [
    {
     "data": {
      "text/plain": [
       "Index(['SC-X (sc)', 'KN-X (sc)', 'FA-Z (sc)', 'FT-Z (sc)', 'FC-Z (sc)',\n",
       "       'FS-Z (sc)', 'FO-Z (sc)', 'SI-Z (sc)', 'SL-Z (sc)', 'CU-Z (sc)',\n",
       "       'KC-Z (sc)', 'EP-Z (sc)', 'CH-Z (sc)', 'SC-Z (sc)', 'KN-Z (sc)',\n",
       "       'wFA (sc)', 'wFT (sc)', 'wFC (sc)', 'wFS (sc)', 'wFO (sc)', 'wSI (sc)',\n",
       "       'wSL (sc)', 'wCU (sc)', 'wKC (sc)', 'wEP (sc)', 'wCH (sc)', 'wSC (sc)',\n",
       "       'wKN (sc)', 'wFA/C (sc)', 'wFT/C (sc)', 'wFC/C (sc)', 'wFS/C (sc)',\n",
       "       'wFO/C (sc)', 'wSI/C (sc)', 'wSL/C (sc)', 'wCU/C (sc)', 'wKC/C (sc)',\n",
       "       'wEP/C (sc)', 'wCH/C (sc)', 'wSC/C (sc)', 'wKN/C (sc)', 'O-Swing% (sc)',\n",
       "       'Z-Swing% (sc)', 'Swing% (sc)', 'O-Contact% (sc)', 'Z-Contact% (sc)',\n",
       "       'Contact% (sc)', 'Zone% (sc)', 'Pace', 'Def'],\n",
       "      dtype='object')"
      ]
     },
     "execution_count": 15,
     "metadata": {},
     "output_type": "execute_result"
    }
   ],
   "source": [
    "team_data.iloc[:,150:200].columns"
   ]
  },
  {
   "cell_type": "code",
   "execution_count": 16,
   "id": "a68227dd-4c7d-40f5-a8d7-5e8b7996dfca",
   "metadata": {},
   "outputs": [
    {
     "data": {
      "text/plain": [
       "Index(['wSB', 'UBR', 'Age Rng', 'Off', 'Lg', 'wGDP', 'Pull%', 'Cent%', 'Oppo%',\n",
       "       'Soft%', 'Med%', 'Hard%', 'TTO%', 'CH% (pi)', 'CS% (pi)', 'CU% (pi)',\n",
       "       'FA% (pi)', 'FC% (pi)', 'FS% (pi)', 'KN% (pi)', 'SB% (pi)', 'SI% (pi)',\n",
       "       'SL% (pi)', 'XX% (pi)', 'vCH (pi)', 'vCS (pi)', 'vCU (pi)', 'vFA (pi)',\n",
       "       'vFC (pi)', 'vFS (pi)', 'vKN (pi)', 'vSB (pi)', 'vSI (pi)', 'vSL (pi)',\n",
       "       'vXX (pi)', 'CH-X (pi)', 'CS-X (pi)', 'CU-X (pi)', 'FA-X (pi)',\n",
       "       'FC-X (pi)', 'FS-X (pi)', 'KN-X (pi)', 'SB-X (pi)', 'SI-X (pi)',\n",
       "       'SL-X (pi)', 'XX-X (pi)', 'CH-Z (pi)', 'CS-Z (pi)', 'CU-Z (pi)',\n",
       "       'FA-Z (pi)'],\n",
       "      dtype='object')"
      ]
     },
     "execution_count": 16,
     "metadata": {},
     "output_type": "execute_result"
    }
   ],
   "source": [
    "team_data.iloc[:,200:250].columns"
   ]
  },
  {
   "cell_type": "code",
   "execution_count": 17,
   "id": "ce62f6ba-bf78-4048-a883-d5668db71fb0",
   "metadata": {},
   "outputs": [
    {
     "data": {
      "text/plain": [
       "Index(['FC-Z (pi)', 'FS-Z (pi)', 'KN-Z (pi)', 'SB-Z (pi)', 'SI-Z (pi)',\n",
       "       'SL-Z (pi)', 'XX-Z (pi)', 'wCH (pi)', 'wCS (pi)', 'wCU (pi)',\n",
       "       'wFA (pi)', 'wFC (pi)', 'wFS (pi)', 'wKN (pi)', 'wSB (pi)', 'wSI (pi)',\n",
       "       'wSL (pi)', 'wXX (pi)', 'wCH/C (pi)', 'wCS/C (pi)', 'wCU/C (pi)',\n",
       "       'wFA/C (pi)', 'wFC/C (pi)', 'wFS/C (pi)', 'wKN/C (pi)', 'wSB/C (pi)',\n",
       "       'wSI/C (pi)', 'wSL/C (pi)', 'wXX/C (pi)', 'O-Swing% (pi)',\n",
       "       'Z-Swing% (pi)', 'Swing% (pi)', 'O-Contact% (pi)', 'Z-Contact% (pi)',\n",
       "       'Contact% (pi)', 'Zone% (pi)', 'Pace (pi)', 'FRM', 'AVG+', 'BB%+',\n",
       "       'K%+', 'OBP+', 'SLG+', 'ISO+', 'BABIP+', 'LD+%', 'GB%+', 'FB%+',\n",
       "       'HR/FB%+', 'Pull%+'],\n",
       "      dtype='object')"
      ]
     },
     "execution_count": 17,
     "metadata": {},
     "output_type": "execute_result"
    }
   ],
   "source": [
    "team_data.iloc[:,250:300].columns"
   ]
  },
  {
   "cell_type": "code",
   "execution_count": 12,
   "id": "26b565aa-72a4-4525-8fe2-677ea01ac16f",
   "metadata": {},
   "outputs": [
    {
     "data": {
      "text/plain": [
       "Index(['Cent%+', 'Oppo%+', 'Soft%+', 'Med%+', 'Hard%+', 'EV', 'LA', 'Barrels',\n",
       "       'Barrel%', 'maxEV', 'HardHit', 'HardHit%', 'Events', 'CStr%', 'CSW%',\n",
       "       'xBA', 'xSLG', 'xwOBA', 'L-WAR'],\n",
       "      dtype='object')"
      ]
     },
     "execution_count": 12,
     "metadata": {},
     "output_type": "execute_result"
    }
   ],
   "source": [
    "team_data.iloc[:,300:].columns"
   ]
  },
  {
   "cell_type": "code",
   "execution_count": 29,
   "id": "59e0f20b-c6ba-4973-879a-5bfd76e36cda",
   "metadata": {},
   "outputs": [
    {
     "data": {
      "text/html": [
       "<div>\n",
       "<style scoped>\n",
       "    .dataframe tbody tr th:only-of-type {\n",
       "        vertical-align: middle;\n",
       "    }\n",
       "\n",
       "    .dataframe tbody tr th {\n",
       "        vertical-align: top;\n",
       "    }\n",
       "\n",
       "    .dataframe thead th {\n",
       "        text-align: right;\n",
       "    }\n",
       "</style>\n",
       "<table border=\"1\" class=\"dataframe\">\n",
       "  <thead>\n",
       "    <tr style=\"text-align: right;\">\n",
       "      <th></th>\n",
       "      <th>Team</th>\n",
       "      <th>Age</th>\n",
       "      <th>G</th>\n",
       "      <th>AB</th>\n",
       "      <th>PA</th>\n",
       "      <th>H</th>\n",
       "      <th>1B</th>\n",
       "      <th>2B</th>\n",
       "      <th>3B</th>\n",
       "      <th>HR</th>\n",
       "      <th>...</th>\n",
       "      <th>Barrel%</th>\n",
       "      <th>maxEV</th>\n",
       "      <th>HardHit</th>\n",
       "      <th>HardHit%</th>\n",
       "      <th>Events</th>\n",
       "      <th>CStr%</th>\n",
       "      <th>CSW%</th>\n",
       "      <th>xBA</th>\n",
       "      <th>xSLG</th>\n",
       "      <th>xwOBA</th>\n",
       "    </tr>\n",
       "  </thead>\n",
       "  <tbody>\n",
       "    <tr>\n",
       "      <th>0</th>\n",
       "      <td>TBR</td>\n",
       "      <td>28</td>\n",
       "      <td>830</td>\n",
       "      <td>1957</td>\n",
       "      <td>2206</td>\n",
       "      <td>523</td>\n",
       "      <td>309</td>\n",
       "      <td>102</td>\n",
       "      <td>9</td>\n",
       "      <td>103</td>\n",
       "      <td>...</td>\n",
       "      <td>0.099</td>\n",
       "      <td>114.5</td>\n",
       "      <td>651</td>\n",
       "      <td>0.437</td>\n",
       "      <td>1491</td>\n",
       "      <td>0.156</td>\n",
       "      <td>0.274</td>\n",
       "      <td>NaN</td>\n",
       "      <td>NaN</td>\n",
       "      <td>NaN</td>\n",
       "    </tr>\n",
       "    <tr>\n",
       "      <th>1</th>\n",
       "      <td>TEX</td>\n",
       "      <td>29</td>\n",
       "      <td>769</td>\n",
       "      <td>1916</td>\n",
       "      <td>2150</td>\n",
       "      <td>522</td>\n",
       "      <td>331</td>\n",
       "      <td>112</td>\n",
       "      <td>8</td>\n",
       "      <td>71</td>\n",
       "      <td>...</td>\n",
       "      <td>0.082</td>\n",
       "      <td>115.1</td>\n",
       "      <td>619</td>\n",
       "      <td>0.424</td>\n",
       "      <td>1459</td>\n",
       "      <td>0.162</td>\n",
       "      <td>0.266</td>\n",
       "      <td>NaN</td>\n",
       "      <td>NaN</td>\n",
       "      <td>NaN</td>\n",
       "    </tr>\n",
       "    <tr>\n",
       "      <th>2</th>\n",
       "      <td>LAD</td>\n",
       "      <td>29</td>\n",
       "      <td>845</td>\n",
       "      <td>1915</td>\n",
       "      <td>2208</td>\n",
       "      <td>463</td>\n",
       "      <td>248</td>\n",
       "      <td>108</td>\n",
       "      <td>11</td>\n",
       "      <td>96</td>\n",
       "      <td>...</td>\n",
       "      <td>0.100</td>\n",
       "      <td>112.7</td>\n",
       "      <td>601</td>\n",
       "      <td>0.419</td>\n",
       "      <td>1436</td>\n",
       "      <td>0.169</td>\n",
       "      <td>0.277</td>\n",
       "      <td>NaN</td>\n",
       "      <td>NaN</td>\n",
       "      <td>NaN</td>\n",
       "    </tr>\n",
       "    <tr>\n",
       "      <th>3</th>\n",
       "      <td>ATL</td>\n",
       "      <td>29</td>\n",
       "      <td>791</td>\n",
       "      <td>1895</td>\n",
       "      <td>2114</td>\n",
       "      <td>485</td>\n",
       "      <td>290</td>\n",
       "      <td>99</td>\n",
       "      <td>4</td>\n",
       "      <td>92</td>\n",
       "      <td>...</td>\n",
       "      <td>0.114</td>\n",
       "      <td>118.6</td>\n",
       "      <td>641</td>\n",
       "      <td>0.451</td>\n",
       "      <td>1420</td>\n",
       "      <td>0.145</td>\n",
       "      <td>0.269</td>\n",
       "      <td>NaN</td>\n",
       "      <td>NaN</td>\n",
       "      <td>NaN</td>\n",
       "    </tr>\n",
       "    <tr>\n",
       "      <th>4</th>\n",
       "      <td>BOS</td>\n",
       "      <td>30</td>\n",
       "      <td>802</td>\n",
       "      <td>1887</td>\n",
       "      <td>2106</td>\n",
       "      <td>499</td>\n",
       "      <td>308</td>\n",
       "      <td>124</td>\n",
       "      <td>4</td>\n",
       "      <td>63</td>\n",
       "      <td>...</td>\n",
       "      <td>0.077</td>\n",
       "      <td>115.0</td>\n",
       "      <td>585</td>\n",
       "      <td>0.399</td>\n",
       "      <td>1468</td>\n",
       "      <td>0.181</td>\n",
       "      <td>0.277</td>\n",
       "      <td>NaN</td>\n",
       "      <td>NaN</td>\n",
       "      <td>NaN</td>\n",
       "    </tr>\n",
       "  </tbody>\n",
       "</table>\n",
       "<p>5 rows × 148 columns</p>\n",
       "</div>"
      ],
      "text/plain": [
       "  Team  Age    G    AB    PA    H   1B   2B  3B   HR  ...  Barrel%  maxEV  \\\n",
       "0  TBR   28  830  1957  2206  523  309  102   9  103  ...    0.099  114.5   \n",
       "1  TEX   29  769  1916  2150  522  331  112   8   71  ...    0.082  115.1   \n",
       "2  LAD   29  845  1915  2208  463  248  108  11   96  ...    0.100  112.7   \n",
       "3  ATL   29  791  1895  2114  485  290   99   4   92  ...    0.114  118.6   \n",
       "4  BOS   30  802  1887  2106  499  308  124   4   63  ...    0.077  115.0   \n",
       "\n",
       "   HardHit  HardHit%  Events  CStr%   CSW%  xBA  xSLG  xwOBA  \n",
       "0      651     0.437    1491  0.156  0.274  NaN   NaN    NaN  \n",
       "1      619     0.424    1459  0.162  0.266  NaN   NaN    NaN  \n",
       "2      601     0.419    1436  0.169  0.277  NaN   NaN    NaN  \n",
       "3      641     0.451    1420  0.145  0.269  NaN   NaN    NaN  \n",
       "4      585     0.399    1468  0.181  0.277  NaN   NaN    NaN  \n",
       "\n",
       "[5 rows x 148 columns]"
      ]
     },
     "execution_count": 29,
     "metadata": {},
     "output_type": "execute_result"
    }
   ],
   "source": [
    "team_data = team_data[['Team', 'Age', 'G', 'AB', 'PA', 'H', '1B', '2B', '3B', 'HR',\n",
    "       'R', 'RBI', 'BB', 'IBB', 'SO', 'HBP', 'SF', 'SH', 'GDP', 'SB', 'CS',\n",
    "       'AVG', 'GB', 'FB', 'LD', 'IFFB', 'Pitches', 'Balls', 'Strikes', 'IFH',\n",
    "       'BU', 'BUH', 'BB%', 'K%', 'BB/K', 'OBP', 'SLG', 'OPS', 'ISO', 'BABIP',\n",
    "       'GB/FB', 'LD%', 'GB%', 'FB%', 'IFFB%', 'HR/FB', 'IFH%', 'BUH%','wOBA', 'wRAA', 'wRC', 'Bat', 'Fld', 'Rep', 'Pos', 'RAR', 'WAR', 'Dol',\n",
    "       'Spd', 'wRC+', 'WPA', '-WPA', '+WPA', 'RE24', 'REW', 'pLI', 'phLI',\n",
    "       'PH', 'WPA/LI', 'Clutch', 'FB% (Pitch)', 'FBv', 'SL%', 'SLv', 'CT%',\n",
    "       'CTv', 'CB%', 'CBv', 'CH%', 'CHv', 'SF%', 'SFv', 'KN%', 'KNv', 'XX%',\n",
    "       'PO%', 'wFB', 'wSL', 'wCT', 'wCB', 'wCH', 'wSF', 'wKN', 'wFB/C',\n",
    "       'wSL/C', 'wCT/C', 'wCB/C', 'wCH/C','O-Swing%', 'Z-Swing%', 'Swing%', 'O-Contact%',\n",
    "       'Z-Contact%', 'Contact%', 'Zone%', 'F-Strike%', 'SwStr%', 'BsR','O-Swing% (sc)',\n",
    "       'Z-Swing% (sc)', 'Swing% (sc)', 'O-Contact% (sc)', 'Z-Contact% (sc)',\n",
    "       'Contact% (sc)', 'Zone% (sc)', 'Pace', 'Def','FRM', 'AVG+', 'BB%+',\n",
    "       'K%+', 'OBP+', 'SLG+', 'ISO+', 'BABIP+', 'LD+%', 'GB%+', 'FB%+',\n",
    "       'HR/FB%+', 'Pull%+','Cent%+', 'Oppo%+', 'Soft%+', 'Med%+', 'Hard%+', 'EV', 'LA', 'Barrels',\n",
    "       'Barrel%', 'maxEV', 'HardHit', 'HardHit%', 'Events', 'CStr%', 'CSW%',\n",
    "       'xBA', 'xSLG', 'xwOBA']]\n",
    "team_data.dropna(axis = 1)\n",
    "team_data.head()"
   ]
  },
  {
   "cell_type": "code",
   "execution_count": 59,
   "id": "a84c2cff-7ac1-4abd-8401-287da79c75fc",
   "metadata": {},
   "outputs": [
    {
     "data": {
      "text/html": [
       "<div>\n",
       "<style scoped>\n",
       "    .dataframe tbody tr th:only-of-type {\n",
       "        vertical-align: middle;\n",
       "    }\n",
       "\n",
       "    .dataframe tbody tr th {\n",
       "        vertical-align: top;\n",
       "    }\n",
       "\n",
       "    .dataframe thead th {\n",
       "        text-align: right;\n",
       "    }\n",
       "</style>\n",
       "<table border=\"1\" class=\"dataframe\">\n",
       "  <thead>\n",
       "    <tr style=\"text-align: right;\">\n",
       "      <th></th>\n",
       "      <th>Name</th>\n",
       "      <th>Age</th>\n",
       "      <th>#days</th>\n",
       "      <th>Lev</th>\n",
       "      <th>Tm</th>\n",
       "      <th>G</th>\n",
       "      <th>GS</th>\n",
       "      <th>W</th>\n",
       "      <th>L</th>\n",
       "      <th>SV</th>\n",
       "      <th>...</th>\n",
       "      <th>StL</th>\n",
       "      <th>StS</th>\n",
       "      <th>GB/FB</th>\n",
       "      <th>LD</th>\n",
       "      <th>PU</th>\n",
       "      <th>WHIP</th>\n",
       "      <th>BAbip</th>\n",
       "      <th>SO9</th>\n",
       "      <th>SO/W</th>\n",
       "      <th>mlbID</th>\n",
       "    </tr>\n",
       "  </thead>\n",
       "  <tbody>\n",
       "    <tr>\n",
       "      <th>1</th>\n",
       "      <td>Fernando Abad</td>\n",
       "      <td>37</td>\n",
       "      <td>12</td>\n",
       "      <td>Maj-NL</td>\n",
       "      <td>Colorado</td>\n",
       "      <td>3</td>\n",
       "      <td>0</td>\n",
       "      <td>NaN</td>\n",
       "      <td>NaN</td>\n",
       "      <td>NaN</td>\n",
       "      <td>...</td>\n",
       "      <td>0.10</td>\n",
       "      <td>0.01</td>\n",
       "      <td>0.23</td>\n",
       "      <td>0.23</td>\n",
       "      <td>0.08</td>\n",
       "      <td>3.000</td>\n",
       "      <td>0.364</td>\n",
       "      <td>0.0</td>\n",
       "      <td>0.00</td>\n",
       "      <td>472551</td>\n",
       "    </tr>\n",
       "    <tr>\n",
       "      <th>2</th>\n",
       "      <td>Cory Abbott</td>\n",
       "      <td>27</td>\n",
       "      <td>18</td>\n",
       "      <td>Maj-NL</td>\n",
       "      <td>Washington</td>\n",
       "      <td>2</td>\n",
       "      <td>0</td>\n",
       "      <td>NaN</td>\n",
       "      <td>NaN</td>\n",
       "      <td>NaN</td>\n",
       "      <td>...</td>\n",
       "      <td>0.21</td>\n",
       "      <td>0.05</td>\n",
       "      <td>0.54</td>\n",
       "      <td>0.15</td>\n",
       "      <td>0.15</td>\n",
       "      <td>1.250</td>\n",
       "      <td>0.167</td>\n",
       "      <td>4.5</td>\n",
       "      <td>1.00</td>\n",
       "      <td>676265</td>\n",
       "    </tr>\n",
       "    <tr>\n",
       "      <th>3</th>\n",
       "      <td>Albert Abreu</td>\n",
       "      <td>27</td>\n",
       "      <td>3</td>\n",
       "      <td>Maj-AL</td>\n",
       "      <td>New York</td>\n",
       "      <td>14</td>\n",
       "      <td>0</td>\n",
       "      <td>2.0</td>\n",
       "      <td>1.0</td>\n",
       "      <td>NaN</td>\n",
       "      <td>...</td>\n",
       "      <td>0.17</td>\n",
       "      <td>0.12</td>\n",
       "      <td>0.46</td>\n",
       "      <td>0.12</td>\n",
       "      <td>0.05</td>\n",
       "      <td>1.225</td>\n",
       "      <td>0.158</td>\n",
       "      <td>8.8</td>\n",
       "      <td>1.45</td>\n",
       "      <td>656061</td>\n",
       "    </tr>\n",
       "    <tr>\n",
       "      <th>4</th>\n",
       "      <td>Bryan Abreu</td>\n",
       "      <td>26</td>\n",
       "      <td>3</td>\n",
       "      <td>Maj-AL</td>\n",
       "      <td>Houston</td>\n",
       "      <td>13</td>\n",
       "      <td>0</td>\n",
       "      <td>2.0</td>\n",
       "      <td>1.0</td>\n",
       "      <td>NaN</td>\n",
       "      <td>...</td>\n",
       "      <td>0.18</td>\n",
       "      <td>0.20</td>\n",
       "      <td>0.46</td>\n",
       "      <td>0.27</td>\n",
       "      <td>0.04</td>\n",
       "      <td>1.000</td>\n",
       "      <td>0.292</td>\n",
       "      <td>15.9</td>\n",
       "      <td>5.75</td>\n",
       "      <td>650556</td>\n",
       "    </tr>\n",
       "    <tr>\n",
       "      <th>5</th>\n",
       "      <td>Domingo Acevedo</td>\n",
       "      <td>29</td>\n",
       "      <td>29</td>\n",
       "      <td>Maj-AL</td>\n",
       "      <td>Oakland</td>\n",
       "      <td>3</td>\n",
       "      <td>0</td>\n",
       "      <td>NaN</td>\n",
       "      <td>NaN</td>\n",
       "      <td>NaN</td>\n",
       "      <td>...</td>\n",
       "      <td>0.19</td>\n",
       "      <td>0.06</td>\n",
       "      <td>0.50</td>\n",
       "      <td>0.30</td>\n",
       "      <td>0.00</td>\n",
       "      <td>2.143</td>\n",
       "      <td>0.400</td>\n",
       "      <td>3.9</td>\n",
       "      <td>1.00</td>\n",
       "      <td>642758</td>\n",
       "    </tr>\n",
       "  </tbody>\n",
       "</table>\n",
       "<p>5 rows × 41 columns</p>\n",
       "</div>"
      ],
      "text/plain": [
       "              Name  Age  #days     Lev          Tm   G  GS    W    L  SV  ...  \\\n",
       "1    Fernando Abad   37     12  Maj-NL    Colorado   3   0  NaN  NaN NaN  ...   \n",
       "2      Cory Abbott   27     18  Maj-NL  Washington   2   0  NaN  NaN NaN  ...   \n",
       "3     Albert Abreu   27      3  Maj-AL    New York  14   0  2.0  1.0 NaN  ...   \n",
       "4      Bryan Abreu   26      3  Maj-AL     Houston  13   0  2.0  1.0 NaN  ...   \n",
       "5  Domingo Acevedo   29     29  Maj-AL     Oakland   3   0  NaN  NaN NaN  ...   \n",
       "\n",
       "    StL   StS  GB/FB    LD    PU   WHIP  BAbip   SO9  SO/W   mlbID  \n",
       "1  0.10  0.01   0.23  0.23  0.08  3.000  0.364   0.0  0.00  472551  \n",
       "2  0.21  0.05   0.54  0.15  0.15  1.250  0.167   4.5  1.00  676265  \n",
       "3  0.17  0.12   0.46  0.12  0.05  1.225  0.158   8.8  1.45  656061  \n",
       "4  0.18  0.20   0.46  0.27  0.04  1.000  0.292  15.9  5.75  650556  \n",
       "5  0.19  0.06   0.50  0.30  0.00  2.143  0.400   3.9  1.00  642758  \n",
       "\n",
       "[5 rows x 41 columns]"
      ]
     },
     "execution_count": 59,
     "metadata": {},
     "output_type": "execute_result"
    }
   ],
   "source": [
    "pitch_data_daily = pb.pitching_stats_range(\"2023-04-28\", \"2023-06-01\")\n",
    "pitch_data_daily.head()\n",
    "# pitch_data_daily.columns\n",
    "pitch_data_daily.head()"
   ]
  },
  {
   "cell_type": "code",
   "execution_count": 60,
   "id": "b00a88ed-0d66-4239-872a-21b74c470f1b",
   "metadata": {},
   "outputs": [
    {
     "ename": "KeyError",
     "evalue": "\"['Opp'] not in index\"",
     "output_type": "error",
     "traceback": [
      "\u001b[0;31m---------------------------------------------------------------------------\u001b[0m",
      "\u001b[0;31mKeyError\u001b[0m                                  Traceback (most recent call last)",
      "Cell \u001b[0;32mIn[60], line 1\u001b[0m\n\u001b[0;32m----> 1\u001b[0m daily_ks \u001b[38;5;241m=\u001b[39m \u001b[43mpitch_data_daily\u001b[49m\u001b[43m[\u001b[49m\u001b[43m[\u001b[49m\u001b[38;5;124;43m'\u001b[39;49m\u001b[38;5;124;43mName\u001b[39;49m\u001b[38;5;124;43m'\u001b[39;49m\u001b[43m,\u001b[49m\u001b[43m \u001b[49m\u001b[38;5;124;43m'\u001b[39;49m\u001b[38;5;124;43mSO\u001b[39;49m\u001b[38;5;124;43m'\u001b[39;49m\u001b[43m,\u001b[49m\u001b[43m \u001b[49m\u001b[38;5;124;43m'\u001b[39;49m\u001b[38;5;124;43mOpp\u001b[39;49m\u001b[38;5;124;43m'\u001b[39;49m\u001b[43m,\u001b[49m\u001b[43m \u001b[49m\u001b[38;5;124;43m'\u001b[39;49m\u001b[38;5;124;43mGS\u001b[39;49m\u001b[38;5;124;43m'\u001b[39;49m\u001b[43m]\u001b[49m\u001b[43m]\u001b[49m\n\u001b[1;32m      2\u001b[0m daily_ks_S \u001b[38;5;241m=\u001b[39m daily_ks[daily_ks[\u001b[38;5;124m\"\u001b[39m\u001b[38;5;124mGS\u001b[39m\u001b[38;5;124m\"\u001b[39m] \u001b[38;5;241m==\u001b[39m \u001b[38;5;241m1\u001b[39m]\n\u001b[1;32m      3\u001b[0m daily_ks_S \u001b[38;5;241m=\u001b[39m daily_ks_S\u001b[38;5;241m.\u001b[39mrename(columns \u001b[38;5;241m=\u001b[39m {\u001b[38;5;124m\"\u001b[39m\u001b[38;5;124mSO\u001b[39m\u001b[38;5;124m\"\u001b[39m:\u001b[38;5;124m\"\u001b[39m\u001b[38;5;124mK\u001b[39m\u001b[38;5;124m\"\u001b[39m})\n",
      "File \u001b[0;32m/Applications/miniconda3/lib/python3.10/site-packages/pandas/core/frame.py:3811\u001b[0m, in \u001b[0;36mDataFrame.__getitem__\u001b[0;34m(self, key)\u001b[0m\n\u001b[1;32m   3809\u001b[0m     \u001b[38;5;28;01mif\u001b[39;00m is_iterator(key):\n\u001b[1;32m   3810\u001b[0m         key \u001b[38;5;241m=\u001b[39m \u001b[38;5;28mlist\u001b[39m(key)\n\u001b[0;32m-> 3811\u001b[0m     indexer \u001b[38;5;241m=\u001b[39m \u001b[38;5;28;43mself\u001b[39;49m\u001b[38;5;241;43m.\u001b[39;49m\u001b[43mcolumns\u001b[49m\u001b[38;5;241;43m.\u001b[39;49m\u001b[43m_get_indexer_strict\u001b[49m\u001b[43m(\u001b[49m\u001b[43mkey\u001b[49m\u001b[43m,\u001b[49m\u001b[43m \u001b[49m\u001b[38;5;124;43m\"\u001b[39;49m\u001b[38;5;124;43mcolumns\u001b[39;49m\u001b[38;5;124;43m\"\u001b[39;49m\u001b[43m)\u001b[49m[\u001b[38;5;241m1\u001b[39m]\n\u001b[1;32m   3813\u001b[0m \u001b[38;5;66;03m# take() does not accept boolean indexers\u001b[39;00m\n\u001b[1;32m   3814\u001b[0m \u001b[38;5;28;01mif\u001b[39;00m \u001b[38;5;28mgetattr\u001b[39m(indexer, \u001b[38;5;124m\"\u001b[39m\u001b[38;5;124mdtype\u001b[39m\u001b[38;5;124m\"\u001b[39m, \u001b[38;5;28;01mNone\u001b[39;00m) \u001b[38;5;241m==\u001b[39m \u001b[38;5;28mbool\u001b[39m:\n",
      "File \u001b[0;32m/Applications/miniconda3/lib/python3.10/site-packages/pandas/core/indexes/base.py:6113\u001b[0m, in \u001b[0;36mIndex._get_indexer_strict\u001b[0;34m(self, key, axis_name)\u001b[0m\n\u001b[1;32m   6110\u001b[0m \u001b[38;5;28;01melse\u001b[39;00m:\n\u001b[1;32m   6111\u001b[0m     keyarr, indexer, new_indexer \u001b[38;5;241m=\u001b[39m \u001b[38;5;28mself\u001b[39m\u001b[38;5;241m.\u001b[39m_reindex_non_unique(keyarr)\n\u001b[0;32m-> 6113\u001b[0m \u001b[38;5;28;43mself\u001b[39;49m\u001b[38;5;241;43m.\u001b[39;49m\u001b[43m_raise_if_missing\u001b[49m\u001b[43m(\u001b[49m\u001b[43mkeyarr\u001b[49m\u001b[43m,\u001b[49m\u001b[43m \u001b[49m\u001b[43mindexer\u001b[49m\u001b[43m,\u001b[49m\u001b[43m \u001b[49m\u001b[43maxis_name\u001b[49m\u001b[43m)\u001b[49m\n\u001b[1;32m   6115\u001b[0m keyarr \u001b[38;5;241m=\u001b[39m \u001b[38;5;28mself\u001b[39m\u001b[38;5;241m.\u001b[39mtake(indexer)\n\u001b[1;32m   6116\u001b[0m \u001b[38;5;28;01mif\u001b[39;00m \u001b[38;5;28misinstance\u001b[39m(key, Index):\n\u001b[1;32m   6117\u001b[0m     \u001b[38;5;66;03m# GH 42790 - Preserve name from an Index\u001b[39;00m\n",
      "File \u001b[0;32m/Applications/miniconda3/lib/python3.10/site-packages/pandas/core/indexes/base.py:6176\u001b[0m, in \u001b[0;36mIndex._raise_if_missing\u001b[0;34m(self, key, indexer, axis_name)\u001b[0m\n\u001b[1;32m   6173\u001b[0m     \u001b[38;5;28;01mraise\u001b[39;00m \u001b[38;5;167;01mKeyError\u001b[39;00m(\u001b[38;5;124mf\u001b[39m\u001b[38;5;124m\"\u001b[39m\u001b[38;5;124mNone of [\u001b[39m\u001b[38;5;132;01m{\u001b[39;00mkey\u001b[38;5;132;01m}\u001b[39;00m\u001b[38;5;124m] are in the [\u001b[39m\u001b[38;5;132;01m{\u001b[39;00maxis_name\u001b[38;5;132;01m}\u001b[39;00m\u001b[38;5;124m]\u001b[39m\u001b[38;5;124m\"\u001b[39m)\n\u001b[1;32m   6175\u001b[0m not_found \u001b[38;5;241m=\u001b[39m \u001b[38;5;28mlist\u001b[39m(ensure_index(key)[missing_mask\u001b[38;5;241m.\u001b[39mnonzero()[\u001b[38;5;241m0\u001b[39m]]\u001b[38;5;241m.\u001b[39munique())\n\u001b[0;32m-> 6176\u001b[0m \u001b[38;5;28;01mraise\u001b[39;00m \u001b[38;5;167;01mKeyError\u001b[39;00m(\u001b[38;5;124mf\u001b[39m\u001b[38;5;124m\"\u001b[39m\u001b[38;5;132;01m{\u001b[39;00mnot_found\u001b[38;5;132;01m}\u001b[39;00m\u001b[38;5;124m not in index\u001b[39m\u001b[38;5;124m\"\u001b[39m)\n",
      "\u001b[0;31mKeyError\u001b[0m: \"['Opp'] not in index\""
     ]
    }
   ],
   "source": [
    "daily_ks = pitch_data_daily[['Name', 'SO', 'Opp', 'GS']]\n",
    "daily_ks_S = daily_ks[daily_ks[\"GS\"] == 1]\n",
    "daily_ks_S = daily_ks_S.rename(columns = {\"SO\":\"K\"})\n",
    "daily_ks_S = daily_ks_S.drop(columns = \"GS\")\n",
    "daily_ks_S.head()"
   ]
  },
  {
   "cell_type": "code",
   "execution_count": 32,
   "id": "a4864b43-4502-43e6-9fd3-643c541b16c2",
   "metadata": {},
   "outputs": [
    {
     "data": {
      "text/plain": [
       "Index(['IDfg', 'Season', 'Name', 'Team', 'Age', 'W', 'L', 'WAR', 'ERA', 'G',\n",
       "       ...\n",
       "       'LA', 'Barrels', 'Barrel%', 'maxEV', 'HardHit', 'HardHit%', 'Events',\n",
       "       'CStr%', 'CSW%', 'xERA'],\n",
       "      dtype='object', length=334)"
      ]
     },
     "execution_count": 32,
     "metadata": {},
     "output_type": "execute_result"
    }
   ],
   "source": [
    "pitch_season = pb.pitching_stats(2023, qual = 0)\n",
    "pitch_season.head()"
   ]
  },
  {
   "cell_type": "code",
   "execution_count": 37,
   "id": "3cc9a9c3-b058-4db8-b45a-47fa2f5addfb",
   "metadata": {},
   "outputs": [
    {
     "data": {
      "text/plain": [
       "Index(['IDfg', 'Season', 'Name', 'Team', 'Age', 'W', 'L', 'WAR', 'ERA', 'G',\n",
       "       'GS', 'CG', 'ShO', 'SV', 'BS', 'IP', 'TBF', 'H', 'R', 'ER', 'HR', 'BB',\n",
       "       'IBB', 'HBP', 'WP', 'BK', 'SO', 'GB', 'FB', 'LD', 'IFFB', 'Balls',\n",
       "       'Strikes', 'Pitches', 'RS', 'IFH', 'BU', 'BUH', 'K/9', 'BB/9', 'K/BB',\n",
       "       'H/9', 'HR/9', 'AVG', 'WHIP', 'BABIP', 'LOB%', 'FIP', 'GB/FB', 'LD%'],\n",
       "      dtype='object')"
      ]
     },
     "execution_count": 37,
     "metadata": {},
     "output_type": "execute_result"
    }
   ],
   "source": [
    "pitch_season.iloc[:, :50].columns"
   ]
  },
  {
   "cell_type": "code",
   "execution_count": 38,
   "id": "bd7821e8-117a-455d-b3a6-f605ec91a5f5",
   "metadata": {},
   "outputs": [
    {
     "data": {
      "text/plain": [
       "Index(['GB%', 'FB%', 'IFFB%', 'HR/FB', 'IFH%', 'BUH%', 'Starting', 'Start-IP',\n",
       "       'Relieving', 'Relief-IP', 'RAR', 'Dollars', 'tERA', 'xFIP', 'WPA',\n",
       "       '-WPA', '+WPA', 'RE24', 'REW', 'pLI', 'inLI', 'gmLI', 'exLI', 'Pulls',\n",
       "       'WPA/LI', 'Clutch', 'FB% 2', 'FBv', 'SL%', 'SLv', 'CT%', 'CTv', 'CB%',\n",
       "       'CBv', 'CH%', 'CHv', 'SF%', 'SFv', 'KN%', 'KNv', 'XX%', 'PO%', 'wFB',\n",
       "       'wSL', 'wCT', 'wCB', 'wCH', 'wSF', 'wKN', 'wFB/C'],\n",
       "      dtype='object')"
      ]
     },
     "execution_count": 38,
     "metadata": {},
     "output_type": "execute_result"
    }
   ],
   "source": [
    "pitch_season.iloc[:,50:100].columns"
   ]
  },
  {
   "cell_type": "code",
   "execution_count": 39,
   "id": "ca279d9d-155c-48b7-bfad-28e18fb43bb0",
   "metadata": {},
   "outputs": [
    {
     "data": {
      "text/plain": [
       "Index(['wSL/C', 'wCT/C', 'wCB/C', 'wCH/C', 'wSF/C', 'wKN/C', 'O-Swing%',\n",
       "       'Z-Swing%', 'Swing%', 'O-Contact%', 'Z-Contact%', 'Contact%', 'Zone%',\n",
       "       'F-Strike%', 'SwStr%', 'HLD', 'SD', 'MD', 'ERA-', 'FIP-', 'xFIP-', 'K%',\n",
       "       'BB%', 'SIERA', 'RS/9', 'E-F', 'FA% (sc)', 'FT% (sc)', 'FC% (sc)',\n",
       "       'FS% (sc)', 'FO% (sc)', 'SI% (sc)', 'SL% (sc)', 'CU% (sc)', 'KC% (sc)',\n",
       "       'EP% (sc)', 'CH% (sc)', 'SC% (sc)', 'KN% (sc)', 'UN% (sc)', 'vFA (sc)',\n",
       "       'vFT (sc)', 'vFC (sc)', 'vFS (sc)', 'vFO (sc)', 'vSI (sc)', 'vSL (sc)',\n",
       "       'vCU (sc)', 'vKC (sc)', 'vEP (sc)'],\n",
       "      dtype='object')"
      ]
     },
     "execution_count": 39,
     "metadata": {},
     "output_type": "execute_result"
    }
   ],
   "source": [
    "pitch_season.iloc[:, 100:150].columns"
   ]
  },
  {
   "cell_type": "code",
   "execution_count": 40,
   "id": "6e7a5de7-a52f-4596-8af3-f1c8ac3ce7fd",
   "metadata": {},
   "outputs": [
    {
     "data": {
      "text/plain": [
       "Index(['vCH (sc)', 'vSC (sc)', 'vKN (sc)', 'FA-X (sc)', 'FT-X (sc)',\n",
       "       'FC-X (sc)', 'FS-X (sc)', 'FO-X (sc)', 'SI-X (sc)', 'SL-X (sc)',\n",
       "       'CU-X (sc)', 'KC-X (sc)', 'EP-X (sc)', 'CH-X (sc)', 'SC-X (sc)',\n",
       "       'KN-X (sc)', 'FA-Z (sc)', 'FT-Z (sc)', 'FC-Z (sc)', 'FS-Z (sc)',\n",
       "       'FO-Z (sc)', 'SI-Z (sc)', 'SL-Z (sc)', 'CU-Z (sc)', 'KC-Z (sc)',\n",
       "       'EP-Z (sc)', 'CH-Z (sc)', 'SC-Z (sc)', 'KN-Z (sc)', 'wFA (sc)',\n",
       "       'wFT (sc)', 'wFC (sc)', 'wFS (sc)', 'wFO (sc)', 'wSI (sc)', 'wSL (sc)',\n",
       "       'wCU (sc)', 'wKC (sc)', 'wEP (sc)', 'wCH (sc)', 'wSC (sc)', 'wKN (sc)',\n",
       "       'wFA/C (sc)', 'wFT/C (sc)', 'wFC/C (sc)', 'wFS/C (sc)', 'wFO/C (sc)',\n",
       "       'wSI/C (sc)', 'wSL/C (sc)', 'wCU/C (sc)'],\n",
       "      dtype='object')"
      ]
     },
     "execution_count": 40,
     "metadata": {},
     "output_type": "execute_result"
    }
   ],
   "source": [
    "pitch_season.iloc[:, 150:200].columns"
   ]
  },
  {
   "cell_type": "code",
   "execution_count": 41,
   "id": "51c314f8-802c-4385-9dec-485a97347b63",
   "metadata": {},
   "outputs": [
    {
     "data": {
      "text/plain": [
       "Index(['wKC/C (sc)', 'wEP/C (sc)', 'wCH/C (sc)', 'wSC/C (sc)', 'wKN/C (sc)',\n",
       "       'O-Swing% (sc)', 'Z-Swing% (sc)', 'Swing% (sc)', 'O-Contact% (sc)',\n",
       "       'Z-Contact% (sc)', 'Contact% (sc)', 'Zone% (sc)', 'Pace', 'RA9-WAR',\n",
       "       'BIP-Wins', 'LOB-Wins', 'FDP-Wins', 'Age Rng', 'K-BB%', 'Pull%',\n",
       "       'Cent%', 'Oppo%', 'Soft%', 'Med%', 'Hard%', 'kwERA', 'TTO%', 'CH% (pi)',\n",
       "       'CS% (pi)', 'CU% (pi)', 'FA% (pi)', 'FC% (pi)', 'FS% (pi)', 'KN% (pi)',\n",
       "       'SB% (pi)', 'SI% (pi)', 'SL% (pi)', 'XX% (pi)', 'vCH (pi)', 'vCS (pi)',\n",
       "       'vCU (pi)', 'vFA (pi)', 'vFC (pi)', 'vFS (pi)', 'vKN (pi)', 'vSB (pi)',\n",
       "       'vSI (pi)', 'vSL (pi)', 'vXX (pi)', 'CH-X (pi)'],\n",
       "      dtype='object')"
      ]
     },
     "execution_count": 41,
     "metadata": {},
     "output_type": "execute_result"
    }
   ],
   "source": [
    "pitch_season.iloc[:, 200:250].columns"
   ]
  },
  {
   "cell_type": "code",
   "execution_count": 42,
   "id": "ff0097ec-87c6-412d-8571-ed61e42b8742",
   "metadata": {},
   "outputs": [
    {
     "data": {
      "text/plain": [
       "Index(['CS-X (pi)', 'CU-X (pi)', 'FA-X (pi)', 'FC-X (pi)', 'FS-X (pi)',\n",
       "       'KN-X (pi)', 'SB-X (pi)', 'SI-X (pi)', 'SL-X (pi)', 'XX-X (pi)',\n",
       "       'CH-Z (pi)', 'CS-Z (pi)', 'CU-Z (pi)', 'FA-Z (pi)', 'FC-Z (pi)',\n",
       "       'FS-Z (pi)', 'KN-Z (pi)', 'SB-Z (pi)', 'SI-Z (pi)', 'SL-Z (pi)',\n",
       "       'XX-Z (pi)', 'wCH (pi)', 'wCS (pi)', 'wCU (pi)', 'wFA (pi)', 'wFC (pi)',\n",
       "       'wFS (pi)', 'wKN (pi)', 'wSB (pi)', 'wSI (pi)', 'wSL (pi)', 'wXX (pi)',\n",
       "       'wCH/C (pi)', 'wCS/C (pi)', 'wCU/C (pi)', 'wFA/C (pi)', 'wFC/C (pi)',\n",
       "       'wFS/C (pi)', 'wKN/C (pi)', 'wSB/C (pi)', 'wSI/C (pi)', 'wSL/C (pi)',\n",
       "       'wXX/C (pi)', 'O-Swing% (pi)', 'Z-Swing% (pi)', 'Swing% (pi)',\n",
       "       'O-Contact% (pi)', 'Z-Contact% (pi)', 'Contact% (pi)', 'Zone% (pi)'],\n",
       "      dtype='object')"
      ]
     },
     "execution_count": 42,
     "metadata": {},
     "output_type": "execute_result"
    }
   ],
   "source": [
    "pitch_season.iloc[:, 250:300].columns"
   ]
  },
  {
   "cell_type": "code",
   "execution_count": 43,
   "id": "da2a1ae8-27df-4263-80cd-47ac90ec3a8d",
   "metadata": {},
   "outputs": [
    {
     "data": {
      "text/plain": [
       "Index(['Pace (pi)', 'FRM', 'K/9+', 'BB/9+', 'K/BB+', 'H/9+', 'HR/9+', 'AVG+',\n",
       "       'WHIP+', 'BABIP+', 'LOB%+', 'K%+', 'BB%+', 'LD%+', 'GB%+', 'FB%+',\n",
       "       'HR/FB%+', 'Pull%+', 'Cent%+', 'Oppo%+', 'Soft%+', 'Med%+', 'Hard%+',\n",
       "       'EV', 'LA', 'Barrels', 'Barrel%', 'maxEV', 'HardHit', 'HardHit%',\n",
       "       'Events', 'CStr%', 'CSW%', 'xERA'],\n",
       "      dtype='object')"
      ]
     },
     "execution_count": 43,
     "metadata": {},
     "output_type": "execute_result"
    }
   ],
   "source": [
    "pitch_season.iloc[:, 300:350].columns"
   ]
  },
  {
   "cell_type": "code",
   "execution_count": 47,
   "id": "65c6d6fd-c084-45b6-8019-3d205dcfac7c",
   "metadata": {},
   "outputs": [
    {
     "data": {
      "text/html": [
       "<div>\n",
       "<style scoped>\n",
       "    .dataframe tbody tr th:only-of-type {\n",
       "        vertical-align: middle;\n",
       "    }\n",
       "\n",
       "    .dataframe tbody tr th {\n",
       "        vertical-align: top;\n",
       "    }\n",
       "\n",
       "    .dataframe thead th {\n",
       "        text-align: right;\n",
       "    }\n",
       "</style>\n",
       "<table border=\"1\" class=\"dataframe\">\n",
       "  <thead>\n",
       "    <tr style=\"text-align: right;\">\n",
       "      <th></th>\n",
       "      <th>Name</th>\n",
       "      <th>Team</th>\n",
       "      <th>W</th>\n",
       "      <th>L</th>\n",
       "      <th>WAR</th>\n",
       "      <th>ERA</th>\n",
       "      <th>CG</th>\n",
       "      <th>ShO</th>\n",
       "      <th>IP</th>\n",
       "      <th>TBF</th>\n",
       "      <th>...</th>\n",
       "      <th>LA</th>\n",
       "      <th>Barrels</th>\n",
       "      <th>Barrel%</th>\n",
       "      <th>maxEV</th>\n",
       "      <th>HardHit</th>\n",
       "      <th>HardHit%</th>\n",
       "      <th>Events</th>\n",
       "      <th>CStr%</th>\n",
       "      <th>CSW%</th>\n",
       "      <th>xERA</th>\n",
       "    </tr>\n",
       "  </thead>\n",
       "  <tbody>\n",
       "    <tr>\n",
       "      <th>146</th>\n",
       "      <td>Zac Gallen</td>\n",
       "      <td>ARI</td>\n",
       "      <td>7</td>\n",
       "      <td>2</td>\n",
       "      <td>3.0</td>\n",
       "      <td>2.72</td>\n",
       "      <td>0</td>\n",
       "      <td>0</td>\n",
       "      <td>72.2</td>\n",
       "      <td>289</td>\n",
       "      <td>...</td>\n",
       "      <td>13.4</td>\n",
       "      <td>12</td>\n",
       "      <td>0.063</td>\n",
       "      <td>112.2</td>\n",
       "      <td>85</td>\n",
       "      <td>0.447</td>\n",
       "      <td>190</td>\n",
       "      <td>0.168</td>\n",
       "      <td>0.288</td>\n",
       "      <td>3.64</td>\n",
       "    </tr>\n",
       "    <tr>\n",
       "      <th>120</th>\n",
       "      <td>Nathan Eovaldi</td>\n",
       "      <td>TEX</td>\n",
       "      <td>7</td>\n",
       "      <td>2</td>\n",
       "      <td>2.4</td>\n",
       "      <td>2.42</td>\n",
       "      <td>2</td>\n",
       "      <td>1</td>\n",
       "      <td>74.1</td>\n",
       "      <td>285</td>\n",
       "      <td>...</td>\n",
       "      <td>3.7</td>\n",
       "      <td>9</td>\n",
       "      <td>0.045</td>\n",
       "      <td>110.9</td>\n",
       "      <td>83</td>\n",
       "      <td>0.415</td>\n",
       "      <td>200</td>\n",
       "      <td>0.169</td>\n",
       "      <td>0.289</td>\n",
       "      <td>2.94</td>\n",
       "    </tr>\n",
       "    <tr>\n",
       "      <th>183</th>\n",
       "      <td>Kevin Gausman</td>\n",
       "      <td>TOR</td>\n",
       "      <td>3</td>\n",
       "      <td>3</td>\n",
       "      <td>2.4</td>\n",
       "      <td>3.03</td>\n",
       "      <td>0</td>\n",
       "      <td>0</td>\n",
       "      <td>68.1</td>\n",
       "      <td>279</td>\n",
       "      <td>...</td>\n",
       "      <td>12.0</td>\n",
       "      <td>16</td>\n",
       "      <td>0.092</td>\n",
       "      <td>113.6</td>\n",
       "      <td>76</td>\n",
       "      <td>0.437</td>\n",
       "      <td>174</td>\n",
       "      <td>0.161</td>\n",
       "      <td>0.295</td>\n",
       "      <td>3.29</td>\n",
       "    </tr>\n",
       "    <tr>\n",
       "      <th>91</th>\n",
       "      <td>Sonny Gray</td>\n",
       "      <td>MIN</td>\n",
       "      <td>4</td>\n",
       "      <td>0</td>\n",
       "      <td>2.3</td>\n",
       "      <td>1.94</td>\n",
       "      <td>0</td>\n",
       "      <td>0</td>\n",
       "      <td>60.1</td>\n",
       "      <td>250</td>\n",
       "      <td>...</td>\n",
       "      <td>9.1</td>\n",
       "      <td>9</td>\n",
       "      <td>0.057</td>\n",
       "      <td>112.2</td>\n",
       "      <td>70</td>\n",
       "      <td>0.446</td>\n",
       "      <td>157</td>\n",
       "      <td>0.181</td>\n",
       "      <td>0.295</td>\n",
       "      <td>3.33</td>\n",
       "    </tr>\n",
       "    <tr>\n",
       "      <th>259</th>\n",
       "      <td>Zack Wheeler</td>\n",
       "      <td>PHI</td>\n",
       "      <td>4</td>\n",
       "      <td>4</td>\n",
       "      <td>2.3</td>\n",
       "      <td>3.60</td>\n",
       "      <td>0</td>\n",
       "      <td>0</td>\n",
       "      <td>65.0</td>\n",
       "      <td>274</td>\n",
       "      <td>...</td>\n",
       "      <td>15.1</td>\n",
       "      <td>8</td>\n",
       "      <td>0.045</td>\n",
       "      <td>110.5</td>\n",
       "      <td>62</td>\n",
       "      <td>0.348</td>\n",
       "      <td>178</td>\n",
       "      <td>0.160</td>\n",
       "      <td>0.294</td>\n",
       "      <td>3.33</td>\n",
       "    </tr>\n",
       "  </tbody>\n",
       "</table>\n",
       "<p>5 rows × 156 columns</p>\n",
       "</div>"
      ],
      "text/plain": [
       "               Name Team  W  L  WAR   ERA  CG  ShO    IP  TBF  ...    LA  \\\n",
       "146      Zac Gallen  ARI  7  2  3.0  2.72   0    0  72.2  289  ...  13.4   \n",
       "120  Nathan Eovaldi  TEX  7  2  2.4  2.42   2    1  74.1  285  ...   3.7   \n",
       "183   Kevin Gausman  TOR  3  3  2.4  3.03   0    0  68.1  279  ...  12.0   \n",
       "91       Sonny Gray  MIN  4  0  2.3  1.94   0    0  60.1  250  ...   9.1   \n",
       "259    Zack Wheeler  PHI  4  4  2.3  3.60   0    0  65.0  274  ...  15.1   \n",
       "\n",
       "     Barrels  Barrel%  maxEV  HardHit  HardHit%  Events  CStr%   CSW%  xERA  \n",
       "146       12    0.063  112.2       85     0.447     190  0.168  0.288  3.64  \n",
       "120        9    0.045  110.9       83     0.415     200  0.169  0.289  2.94  \n",
       "183       16    0.092  113.6       76     0.437     174  0.161  0.295  3.29  \n",
       "91         9    0.057  112.2       70     0.446     157  0.181  0.295  3.33  \n",
       "259        8    0.045  110.5       62     0.348     178  0.160  0.294  3.33  \n",
       "\n",
       "[5 rows x 156 columns]"
      ]
     },
     "execution_count": 47,
     "metadata": {},
     "output_type": "execute_result"
    }
   ],
   "source": [
    "pitch_season = pitch_season[['Name', 'Team','W', 'L', 'WAR', 'ERA','CG', 'ShO','IP', 'TBF', 'H', 'R', 'ER', 'HR', 'BB',\n",
    "       'IBB', 'HBP', 'WP', 'BK', 'SO', 'GB', 'FB', 'LD', 'IFFB', 'Balls',\n",
    "       'Strikes', 'Pitches', 'RS', 'IFH', 'BU', 'BUH', 'K/9', 'BB/9', 'K/BB',\n",
    "       'H/9', 'HR/9', 'AVG', 'WHIP', 'BABIP', 'LOB%', 'FIP', 'GB/FB', 'LD%','GB%', \n",
    "       'FB%', 'IFFB%', 'HR/FB', 'IFH%', 'BUH%', 'tERA', 'xFIP', 'WPA',\n",
    "       '-WPA', '+WPA', 'RE24', 'REW', 'pLI', 'inLI', 'gmLI', 'exLI', 'Pulls',\n",
    "       'WPA/LI', 'Clutch', 'FB% 2', 'FBv', 'SL%', 'SLv', 'CT%', 'CTv', 'CB%',\n",
    "       'CBv', 'CH%', 'CHv', 'SF%', 'SFv', 'KN%', 'KNv', 'XX%', 'PO%', 'wFB',\n",
    "       'wSL', 'wCT', 'wCB', 'wCH', 'wSF', 'wKN', 'wFB/C','wSL/C', 'wCT/C', 'wCB/C', 'wCH/C', 'wSF/C', 'wKN/C', 'O-Swing%',\n",
    "       'Z-Swing%', 'Swing%', 'O-Contact%', 'Z-Contact%', 'Contact%', 'Zone%',\n",
    "       'F-Strike%', 'SwStr%', 'HLD', 'SD', 'MD', 'ERA-', 'FIP-', 'xFIP-', 'K%',\n",
    "       'BB%', 'SIERA', 'RS/9', 'E-F','K-BB%', 'Pull%',\n",
    "       'Cent%', 'Oppo%', 'Soft%', 'Med%', 'Hard%', 'kwERA', 'TTO%','Pace (pi)', 'FRM', 'K/9+', 'BB/9+', 'K/BB+', 'H/9+', 'HR/9+', 'AVG+',\n",
    "       'WHIP+', 'BABIP+', 'LOB%+', 'K%+', 'BB%+', 'LD%+', 'GB%+', 'FB%+',\n",
    "       'HR/FB%+', 'Pull%+', 'Cent%+', 'Oppo%+', 'Soft%+', 'Med%+', 'Hard%+',\n",
    "       'EV', 'LA', 'Barrels', 'Barrel%', 'maxEV', 'HardHit', 'HardHit%',\n",
    "       'Events', 'CStr%', 'CSW%', 'xERA']]\n",
    "pitch_season.head()"
   ]
  },
  {
   "cell_type": "code",
   "execution_count": 53,
   "id": "8c986562-6434-4375-b4e2-2707928d1afe",
   "metadata": {},
   "outputs": [
    {
     "data": {
      "text/html": [
       "<div>\n",
       "<style scoped>\n",
       "    .dataframe tbody tr th:only-of-type {\n",
       "        vertical-align: middle;\n",
       "    }\n",
       "\n",
       "    .dataframe tbody tr th {\n",
       "        vertical-align: top;\n",
       "    }\n",
       "\n",
       "    .dataframe thead th {\n",
       "        text-align: right;\n",
       "    }\n",
       "</style>\n",
       "<table border=\"1\" class=\"dataframe\">\n",
       "  <thead>\n",
       "    <tr style=\"text-align: right;\">\n",
       "      <th></th>\n",
       "      <th>Name</th>\n",
       "      <th>Team</th>\n",
       "      <th>W</th>\n",
       "      <th>L</th>\n",
       "      <th>WAR</th>\n",
       "      <th>ERA</th>\n",
       "      <th>CG</th>\n",
       "      <th>ShO</th>\n",
       "      <th>IP</th>\n",
       "      <th>TBF</th>\n",
       "      <th>...</th>\n",
       "      <th>Barrel%</th>\n",
       "      <th>maxEV</th>\n",
       "      <th>HardHit</th>\n",
       "      <th>HardHit%</th>\n",
       "      <th>Events</th>\n",
       "      <th>CStr%</th>\n",
       "      <th>CSW%</th>\n",
       "      <th>xERA</th>\n",
       "      <th>K</th>\n",
       "      <th>Opp</th>\n",
       "    </tr>\n",
       "  </thead>\n",
       "  <tbody>\n",
       "    <tr>\n",
       "      <th>0</th>\n",
       "      <td>Framber Valdez</td>\n",
       "      <td>HOU</td>\n",
       "      <td>5</td>\n",
       "      <td>4</td>\n",
       "      <td>2.0</td>\n",
       "      <td>2.38</td>\n",
       "      <td>1</td>\n",
       "      <td>1</td>\n",
       "      <td>72.0</td>\n",
       "      <td>286</td>\n",
       "      <td>...</td>\n",
       "      <td>0.089</td>\n",
       "      <td>114.8</td>\n",
       "      <td>88</td>\n",
       "      <td>0.458</td>\n",
       "      <td>192</td>\n",
       "      <td>0.179</td>\n",
       "      <td>0.289</td>\n",
       "      <td>4.01</td>\n",
       "      <td>3</td>\n",
       "      <td>Philadelphia</td>\n",
       "    </tr>\n",
       "    <tr>\n",
       "      <th>1</th>\n",
       "      <td>Luis Castillo</td>\n",
       "      <td>SEA</td>\n",
       "      <td>4</td>\n",
       "      <td>2</td>\n",
       "      <td>1.9</td>\n",
       "      <td>2.69</td>\n",
       "      <td>0</td>\n",
       "      <td>0</td>\n",
       "      <td>63.2</td>\n",
       "      <td>255</td>\n",
       "      <td>...</td>\n",
       "      <td>0.099</td>\n",
       "      <td>111.9</td>\n",
       "      <td>77</td>\n",
       "      <td>0.475</td>\n",
       "      <td>162</td>\n",
       "      <td>0.148</td>\n",
       "      <td>0.304</td>\n",
       "      <td>3.58</td>\n",
       "      <td>4</td>\n",
       "      <td>Toronto</td>\n",
       "    </tr>\n",
       "    <tr>\n",
       "      <th>2</th>\n",
       "      <td>Merrill Kelly</td>\n",
       "      <td>ARI</td>\n",
       "      <td>6</td>\n",
       "      <td>3</td>\n",
       "      <td>1.5</td>\n",
       "      <td>2.83</td>\n",
       "      <td>0</td>\n",
       "      <td>0</td>\n",
       "      <td>63.2</td>\n",
       "      <td>252</td>\n",
       "      <td>...</td>\n",
       "      <td>0.064</td>\n",
       "      <td>113.2</td>\n",
       "      <td>59</td>\n",
       "      <td>0.378</td>\n",
       "      <td>156</td>\n",
       "      <td>0.159</td>\n",
       "      <td>0.278</td>\n",
       "      <td>3.64</td>\n",
       "      <td>5</td>\n",
       "      <td>Colorado</td>\n",
       "    </tr>\n",
       "    <tr>\n",
       "      <th>3</th>\n",
       "      <td>Marcus Stroman</td>\n",
       "      <td>CHC</td>\n",
       "      <td>5</td>\n",
       "      <td>4</td>\n",
       "      <td>1.4</td>\n",
       "      <td>2.59</td>\n",
       "      <td>1</td>\n",
       "      <td>1</td>\n",
       "      <td>73.0</td>\n",
       "      <td>283</td>\n",
       "      <td>...</td>\n",
       "      <td>0.036</td>\n",
       "      <td>117.5</td>\n",
       "      <td>81</td>\n",
       "      <td>0.415</td>\n",
       "      <td>195</td>\n",
       "      <td>0.167</td>\n",
       "      <td>0.269</td>\n",
       "      <td>3.71</td>\n",
       "      <td>3</td>\n",
       "      <td>Miami</td>\n",
       "    </tr>\n",
       "    <tr>\n",
       "      <th>4</th>\n",
       "      <td>Jacob deGrom</td>\n",
       "      <td>TEX</td>\n",
       "      <td>2</td>\n",
       "      <td>0</td>\n",
       "      <td>1.4</td>\n",
       "      <td>2.67</td>\n",
       "      <td>0</td>\n",
       "      <td>0</td>\n",
       "      <td>30.1</td>\n",
       "      <td>115</td>\n",
       "      <td>...</td>\n",
       "      <td>0.091</td>\n",
       "      <td>108.0</td>\n",
       "      <td>22</td>\n",
       "      <td>0.333</td>\n",
       "      <td>66</td>\n",
       "      <td>0.155</td>\n",
       "      <td>0.359</td>\n",
       "      <td>1.82</td>\n",
       "      <td>2</td>\n",
       "      <td>New York</td>\n",
       "    </tr>\n",
       "  </tbody>\n",
       "</table>\n",
       "<p>5 rows × 158 columns</p>\n",
       "</div>"
      ],
      "text/plain": [
       "             Name Team  W  L  WAR   ERA  CG  ShO    IP  TBF  ...  Barrel%  \\\n",
       "0  Framber Valdez  HOU  5  4  2.0  2.38   1    1  72.0  286  ...    0.089   \n",
       "1   Luis Castillo  SEA  4  2  1.9  2.69   0    0  63.2  255  ...    0.099   \n",
       "2   Merrill Kelly  ARI  6  3  1.5  2.83   0    0  63.2  252  ...    0.064   \n",
       "3  Marcus Stroman  CHC  5  4  1.4  2.59   1    1  73.0  283  ...    0.036   \n",
       "4    Jacob deGrom  TEX  2  0  1.4  2.67   0    0  30.1  115  ...    0.091   \n",
       "\n",
       "   maxEV  HardHit  HardHit%  Events  CStr%   CSW%  xERA  K           Opp  \n",
       "0  114.8       88     0.458     192  0.179  0.289  4.01  3  Philadelphia  \n",
       "1  111.9       77     0.475     162  0.148  0.304  3.58  4       Toronto  \n",
       "2  113.2       59     0.378     156  0.159  0.278  3.64  5      Colorado  \n",
       "3  117.5       81     0.415     195  0.167  0.269  3.71  3         Miami  \n",
       "4  108.0       22     0.333      66  0.155  0.359  1.82  2      New York  \n",
       "\n",
       "[5 rows x 158 columns]"
      ]
     },
     "execution_count": 53,
     "metadata": {},
     "output_type": "execute_result"
    }
   ],
   "source": [
    "pitch_all = pitch_season.merge(daily_ks_S, on = \"Name\")\n",
    "pitch_all.head()"
   ]
  },
  {
   "cell_type": "code",
   "execution_count": 54,
   "id": "a6890f84-429e-4407-b3ec-ed1bd9c51c03",
   "metadata": {},
   "outputs": [
    {
     "data": {
      "text/plain": [
       "array(['TBR', 'TEX', 'LAD', 'ATL', 'BOS', 'LAA', 'ARI', 'TOR', 'STL',\n",
       "       'CHC', 'BAL', 'SFG', 'CIN', 'PIT', 'NYM', 'COL', 'WSN', 'PHI',\n",
       "       'NYY', 'MIN', 'MIA', 'HOU', 'SDP', 'SEA', 'MIL', 'CHW', 'KCR',\n",
       "       'DET', 'OAK', 'CLE'], dtype=object)"
      ]
     },
     "execution_count": 54,
     "metadata": {},
     "output_type": "execute_result"
    }
   ],
   "source": [
    "team_data['Team'].unique()"
   ]
  },
  {
   "cell_type": "code",
   "execution_count": 55,
   "id": "74db5dfd-d0af-47d0-8da1-f3205bbaa6cd",
   "metadata": {},
   "outputs": [
    {
     "data": {
      "text/plain": [
       "array(['Philadelphia', 'Toronto', 'Colorado', 'Miami', 'New York',\n",
       "       'St. Louis', 'Chicago', 'Houston', 'Boston', 'Tampa Bay', 'Texas',\n",
       "       'Arizona', 'Los Angeles', 'Milwaukee', 'Atlanta', 'Oakland',\n",
       "       'Cleveland', 'Seattle', 'Minnesota', 'Cincinnati'], dtype=object)"
      ]
     },
     "execution_count": 55,
     "metadata": {},
     "output_type": "execute_result"
    }
   ],
   "source": [
    "pitch_all['Opp'].unique()"
   ]
  },
  {
   "cell_type": "code",
   "execution_count": null,
   "id": "2920d0ce-315d-40ed-ba9e-f4d76cbeb944",
   "metadata": {},
   "outputs": [],
   "source": [
    "full_df = pitch_all.merge(team_data, left_on = \"Opp\", right_on = \""
   ]
  }
 ],
 "metadata": {
  "kernelspec": {
   "display_name": "Python 3 (ipykernel)",
   "language": "python",
   "name": "python3"
  },
  "language_info": {
   "codemirror_mode": {
    "name": "ipython",
    "version": 3
   },
   "file_extension": ".py",
   "mimetype": "text/x-python",
   "name": "python",
   "nbconvert_exporter": "python",
   "pygments_lexer": "ipython3",
   "version": "3.10.8"
  }
 },
 "nbformat": 4,
 "nbformat_minor": 5
}
